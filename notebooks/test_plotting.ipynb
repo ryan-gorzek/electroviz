{
 "cells": [
  {
   "attachments": {},
   "cell_type": "markdown",
   "metadata": {},
   "source": [
    "Load Data"
   ]
  },
  {
   "cell_type": "code",
   "execution_count": null,
   "metadata": {},
   "outputs": [],
   "source": [
    "import numpy as np\n",
    "from electroviz.core.experiment import Experiment\n",
    "\n",
    "exp = Experiment(\"E:/RG008/\")\n",
    "# exp = Experiment(\"E:/20221208_205629/\")\n",
    "# exp = Experiment(\"/Users/ryan.gorzek/Downloads/20221208_205629/\")\n",
    "\n",
    "stimuli = exp.stimuli\n",
    "pop = exp.populations[0]\n",
    "pop = pop.remove(pop.units[\"total_spikes\"] < 100)\n",
    "pop_sort = pop.sort(\"depth\", order=\"descend\")"
   ]
  },
  {
   "cell_type": "code",
   "execution_count": 43,
   "metadata": {},
   "outputs": [],
   "source": [
    "ipsi_sn, contra_sn, contra_sg, ipsi_sg = stimuli"
   ]
  },
  {
   "attachments": {},
   "cell_type": "markdown",
   "metadata": {},
   "source": [
    "Population PSTH"
   ]
  },
  {
   "cell_type": "code",
   "execution_count": 14,
   "metadata": {},
   "outputs": [],
   "source": [
    "pop_sort.plot_PSTH(stim[2])"
   ]
  },
  {
   "attachments": {},
   "cell_type": "markdown",
   "metadata": {},
   "source": [
    "Population Raster"
   ]
  },
  {
   "cell_type": "code",
   "execution_count": 17,
   "metadata": {},
   "outputs": [],
   "source": [
    "from itertools import chain\n",
    "pop_sort.plot_raster(list(chain(*exp.stimuli)))"
   ]
  },
  {
   "attachments": {},
   "cell_type": "markdown",
   "metadata": {},
   "source": [
    "Population Self-Correlation"
   ]
  },
  {
   "cell_type": "code",
   "execution_count": null,
   "metadata": {},
   "outputs": [],
   "source": [
    "pop_sort.plot_corr()"
   ]
  },
  {
   "attachments": {},
   "cell_type": "markdown",
   "metadata": {},
   "source": [
    "Unit PSTH"
   ]
  },
  {
   "cell_type": "code",
   "execution_count": 44,
   "metadata": {},
   "outputs": [],
   "source": [
    "unit = pop_sort[29]\n",
    "stim = contra_sn\n",
    "unit.plot_PSTH(stim, time_window=(-500, 500), bin_size=10)"
   ]
  },
  {
   "attachments": {},
   "cell_type": "markdown",
   "metadata": {},
   "source": [
    "Unit Raster"
   ]
  },
  {
   "cell_type": "code",
   "execution_count": 4,
   "metadata": {},
   "outputs": [],
   "source": [
    "unit.plot_raster(stim, zscore=False)"
   ]
  },
  {
   "attachments": {},
   "cell_type": "markdown",
   "metadata": {},
   "source": [
    "Sparse Noise Kernel at Optimal Delay"
   ]
  },
  {
   "cell_type": "code",
   "execution_count": 45,
   "metadata": {},
   "outputs": [],
   "source": [
    "from electroviz.core.kernel import SparseNoiseKernel\n",
    "kern = SparseNoiseKernel(unit, stim)\n",
    "kern.plot_raw()"
   ]
  },
  {
   "attachments": {},
   "cell_type": "markdown",
   "metadata": {},
   "source": [
    "Sparse Noise Kernels at Various Delays"
   ]
  },
  {
   "cell_type": "code",
   "execution_count": 34,
   "metadata": {},
   "outputs": [],
   "source": [
    "from electroviz.core.kernel import SparseNoiseKernel\n",
    "kern = SparseNoiseKernel(unit, stim)\n",
    "kern.plot_raw_delay()"
   ]
  },
  {
   "attachments": {},
   "cell_type": "markdown",
   "metadata": {},
   "source": [
    "Sparse Noise Kernel Norms at Various Delays"
   ]
  },
  {
   "cell_type": "code",
   "execution_count": 46,
   "metadata": {},
   "outputs": [],
   "source": [
    "from electroviz.core.kernel import SparseNoiseKernel\n",
    "kern = SparseNoiseKernel(unit, stim)\n",
    "kern.plot_norm_delay()"
   ]
  },
  {
   "attachments": {},
   "cell_type": "markdown",
   "metadata": {},
   "source": [
    "Static Gratings Kernel at Optimal Delay"
   ]
  },
  {
   "cell_type": "code",
   "execution_count": 47,
   "metadata": {},
   "outputs": [],
   "source": [
    "from electroviz.core.kernel import StaticGratingsKernel\n",
    "kern = StaticGratingsKernel(unit, stimuli[2])\n",
    "kern.plot_raw()"
   ]
  },
  {
   "attachments": {},
   "cell_type": "markdown",
   "metadata": {},
   "source": [
    "Static Gratings Kernels at Various Delays"
   ]
  },
  {
   "cell_type": "code",
   "execution_count": 48,
   "metadata": {},
   "outputs": [],
   "source": [
    "from electroviz.core.kernel import StaticGratingsKernel\n",
    "kern = StaticGratingsKernel(unit, stimuli[2])\n",
    "kern.plot_raw_delay()"
   ]
  },
  {
   "attachments": {},
   "cell_type": "markdown",
   "metadata": {},
   "source": [
    "Static Gratings Kernel Norms at Various Delays"
   ]
  },
  {
   "cell_type": "code",
   "execution_count": 49,
   "metadata": {},
   "outputs": [],
   "source": [
    "from electroviz.core.kernel import StaticGratingsKernel\n",
    "kern = StaticGratingsKernel(unit, stimuli[2])\n",
    "kern.plot_norm_delay()"
   ]
  }
 ],
 "metadata": {
  "kernelspec": {
   "display_name": "electroviz",
   "language": "python",
   "name": "python3"
  },
  "language_info": {
   "codemirror_mode": {
    "name": "ipython",
    "version": 3
   },
   "file_extension": ".py",
   "mimetype": "text/x-python",
   "name": "python",
   "nbconvert_exporter": "python",
   "pygments_lexer": "ipython3",
   "version": "3.11.0"
  },
  "orig_nbformat": 4,
  "vscode": {
   "interpreter": {
    "hash": "1fb4b2cfc8d15aec02b8cc7121941021c270b8e341355eddc34cc64ffaa6e9cb"
   }
  }
 },
 "nbformat": 4,
 "nbformat_minor": 2
}
