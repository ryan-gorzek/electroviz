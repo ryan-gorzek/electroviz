{
 "cells": [
  {
   "cell_type": "code",
   "execution_count": 1,
   "metadata": {},
   "outputs": [
    {
     "name": "stdout",
     "output_type": "stream",
     "text": [
      "Parsing directories...\n",
      "Loading NIDAQ data...\n",
      "Loading bTsS data...\n",
      "Loading Imec data...\n",
      "Loading Kilosort data...\n",
      "Aligning Syncs...\n",
      "Creating Stimuli...\n",
      "Creating Populations...\n",
      "Creating Probes...\n",
      "Done!\n"
     ]
    }
   ],
   "source": [
    "from electroviz.core.experiment import Experiment\n",
    "\n",
    "exp = Experiment(\"E:/RG008/\")"
   ]
  },
  {
   "cell_type": "code",
   "execution_count": 2,
   "metadata": {},
   "outputs": [],
   "source": [
    "stimuli = exp.stimuli\n",
    "pop0 = exp.populations[0]\n",
    "pop0_sort = pop0.sort(\"peak_channel\")"
   ]
  },
  {
   "cell_type": "code",
   "execution_count": 6,
   "metadata": {},
   "outputs": [],
   "source": [
    "pop0_sort.plot_raster(stimuli[2])"
   ]
  },
  {
   "cell_type": "code",
   "execution_count": 5,
   "metadata": {},
   "outputs": [],
   "source": [
    "pop0_sort[:60].plot_mean_waveforms(path=\"E:/RG008/catgt_ephys_g14/ephys_g14_imec1/params.py\")"
   ]
  },
  {
   "cell_type": "code",
   "execution_count": 4,
   "metadata": {},
   "outputs": [],
   "source": [
    "from electroviz.core.kernel import SparseNoiseKernel\n",
    "from electroviz.core.kernel import StaticGratingsKernel\n",
    "from electroviz.viz.summary import UnitSummary\n",
    "import matplotlib.pyplot as plt\n",
    "\n",
    "population = pop0_sort\n",
    "ctx_range = (51, 53)\n",
    "lgn_range = (220, 320)\n",
    "\n",
    "for ctx_idx, ctx_unit in enumerate(population[slice(*ctx_range)]):\n",
    "\n",
    "    kernels = [SparseNoiseKernel(ctx_unit, stimuli[0]), \n",
    "               SparseNoiseKernel(ctx_unit, stimuli[1]), \n",
    "               StaticGratingsKernel(ctx_unit, stimuli[2]), \n",
    "               StaticGratingsKernel(ctx_unit, stimuli[3])]\n",
    "\n",
    "    file_path = \"G:/Shared drives/Neuropixels/Figures/RG008/UnitSummary/CTX/\"\n",
    "    file_name = \"Probe1_Unit{0}\".format(str(ctx_idx + ctx_range[0]))\n",
    "\n",
    "    UnitSummary(ctx_unit, stimuli[:4], kernels, save_path=file_path+file_name)\n",
    "\n",
    "    plt.close(\"all\")\n",
    "\n",
    "# for lgn_idx, lgn_unit in enumerate(population[slice(*lgn_range)]):\n",
    "\n",
    "#     kernels = [SparseNoiseKernel(lgn_unit, stimuli[0]), \n",
    "#                SparseNoiseKernel(lgn_unit, stimuli[1]), \n",
    "#                StaticGratingsKernel(lgn_unit, stimuli[2]), \n",
    "#                StaticGratingsKernel(lgn_unit, stimuli[3])]\n",
    "\n",
    "#     file_path = \"G:/Shared drives/Neuropixels/Figures/RG008/UnitSummary/LGN/\"\n",
    "#     file_name = \"Probe0_Unit{0}\".format(str(lgn_idx + lgn_range[0]))\n",
    "\n",
    "#     UnitSummary(lgn_unit, stimuli, kernels, save_path=file_path+file_name)\n",
    "\n",
    "#     plt.close(\"all\")"
   ]
  }
 ],
 "metadata": {
  "kernelspec": {
   "display_name": "electroviz",
   "language": "python",
   "name": "python3"
  },
  "language_info": {
   "codemirror_mode": {
    "name": "ipython",
    "version": 3
   },
   "file_extension": ".py",
   "mimetype": "text/x-python",
   "name": "python",
   "nbconvert_exporter": "python",
   "pygments_lexer": "ipython3",
   "version": "3.11.0"
  },
  "orig_nbformat": 4,
  "vscode": {
   "interpreter": {
    "hash": "1fb4b2cfc8d15aec02b8cc7121941021c270b8e341355eddc34cc64ffaa6e9cb"
   }
  }
 },
 "nbformat": 4,
 "nbformat_minor": 2
}
