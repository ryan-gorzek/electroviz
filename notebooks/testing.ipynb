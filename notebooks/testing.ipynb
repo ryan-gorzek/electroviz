{
 "cells": [
  {
   "cell_type": "code",
   "execution_count": 1,
   "metadata": {},
   "outputs": [
    {
     "name": "stdout",
     "output_type": "stream",
     "text": [
      "Parsing directories...\n",
      "Loading NIDAQ data...\n",
      "Loading bTsS data...\n",
      "Loading Imec data...\n",
      "Loading Kilosort data...\n",
      "11145871\n",
      "Aligning Syncs...\n",
      "8681 8681\n",
      "8677 8677\n",
      "8681 8681\n",
      "8677 8677\n",
      "Creating Stimuli...\n",
      "Creating Populations...\n",
      "Creating Probes...\n",
      "Done!\n"
     ]
    }
   ],
   "source": [
    "from electroviz.core.experiment import Experiment\n",
    "\n",
    "exp = Experiment(\"E:/RG008/\")"
   ]
  },
  {
   "cell_type": "code",
   "execution_count": null,
   "metadata": {},
   "outputs": [],
   "source": [
    "import numpy as np\n",
    "exp.kilosort[0].kilosort_dict.keys()\n",
    "np.unique(exp.kilosort[0].kilosort_dict[\"spike_clusters\"]).size"
   ]
  },
  {
   "cell_type": "code",
   "execution_count": 7,
   "metadata": {},
   "outputs": [],
   "source": [
    "stimuli = exp.stimuli\n",
    "pop0 = exp.populations[0]\n",
    "pop0 = pop0.remove(pop0.units[\"total_spikes\"] < 100)\n",
    "pop0_sort = pop0.sort(\"peak_channel\")\n",
    "\n",
    "pop0_sort.plot_raster(stimuli[2])"
   ]
  },
  {
   "cell_type": "code",
   "execution_count": 9,
   "metadata": {},
   "outputs": [],
   "source": [
    "probe = exp.probes[0]\n",
    "probe.plot_CSD(stimuli[2], subtract=True)"
   ]
  },
  {
   "cell_type": "code",
   "execution_count": 10,
   "metadata": {},
   "outputs": [
    {
     "name": "stderr",
     "output_type": "stream",
     "text": [
      "C:\\Ryan\\GitHub\\electroviz\\electroviz\\viz\\psth.py:47: UserWarning: Attempting to set identical low and high ylims makes transformation singular; automatically expanding.\n",
      "  ax.set_ylim(lims[0])\n"
     ]
    },
    {
     "ename": "KeyboardInterrupt",
     "evalue": "",
     "output_type": "error",
     "traceback": [
      "\u001b[1;31m---------------------------------------------------------------------------\u001b[0m",
      "\u001b[1;31mKeyboardInterrupt\u001b[0m                         Traceback (most recent call last)",
      "Cell \u001b[1;32mIn[10], line 20\u001b[0m\n\u001b[0;32m     17\u001b[0m file_path \u001b[39m=\u001b[39m \u001b[39m\"\u001b[39m\u001b[39mG:/Shared drives/Neuropixels/Figures/RG008/UnitSummary/CTX/\u001b[39m\u001b[39m\"\u001b[39m\n\u001b[0;32m     18\u001b[0m file_name \u001b[39m=\u001b[39m \u001b[39m\"\u001b[39m\u001b[39mProbe1_Unit\u001b[39m\u001b[39m{0}\u001b[39;00m\u001b[39m\"\u001b[39m\u001b[39m.\u001b[39mformat(\u001b[39mstr\u001b[39m(ctx_idx \u001b[39m+\u001b[39m ctx_range[\u001b[39m0\u001b[39m]))\n\u001b[1;32m---> 20\u001b[0m UnitSummary(ctx_unit, stimuli[:\u001b[39m4\u001b[39;49m], kernels, save_path\u001b[39m=\u001b[39;49mfile_path\u001b[39m+\u001b[39;49mfile_name)\n\u001b[0;32m     22\u001b[0m plt\u001b[39m.\u001b[39mclose(\u001b[39m\"\u001b[39m\u001b[39mall\u001b[39m\u001b[39m\"\u001b[39m)\n",
      "File \u001b[1;32mC:\\Ryan\\GitHub\\electroviz\\electroviz\\viz\\summary.py:35\u001b[0m, in \u001b[0;36mUnitSummary.__new__\u001b[1;34m(self, unit, stimuli, kernels, save_path)\u001b[0m\n\u001b[0;32m     33\u001b[0m gs_1 \u001b[39m=\u001b[39m fig\u001b[39m.\u001b[39madd_gridspec(\u001b[39m12\u001b[39m, \u001b[39m3\u001b[39m, hspace\u001b[39m=\u001b[39m\u001b[39m1\u001b[39m, wspace\u001b[39m=\u001b[39m\u001b[39m1\u001b[39m, left\u001b[39m=\u001b[39m\u001b[39m0.04\u001b[39m, right\u001b[39m=\u001b[39m\u001b[39m0.20\u001b[39m, top\u001b[39m=\u001b[39m\u001b[39m0.93\u001b[39m, bottom\u001b[39m=\u001b[39m\u001b[39m0.08\u001b[39m)\n\u001b[0;32m     34\u001b[0m ax_raster \u001b[39m=\u001b[39m fig\u001b[39m.\u001b[39madd_subplot(gs_1[:\u001b[39m13\u001b[39m, :\u001b[39m3\u001b[39m])\n\u001b[1;32m---> 35\u001b[0m unit\u001b[39m.\u001b[39;49mplot_raster(\u001b[39mlist\u001b[39;49m(chain(\u001b[39m*\u001b[39;49mstimuli)), ax_in\u001b[39m=\u001b[39;49max_raster)\n\u001b[0;32m     36\u001b[0m ax_raster\u001b[39m.\u001b[39mset_title(\u001b[39m\"\u001b[39m\u001b[39mStimulus Events\u001b[39m\u001b[39m\"\u001b[39m)\n\u001b[0;32m     37\u001b[0m ax_raster\u001b[39m.\u001b[39mset_xlim((\u001b[39m-\u001b[39m\u001b[39m1.25\u001b[39m, \u001b[39m53.25\u001b[39m))\n",
      "File \u001b[1;32mC:\\Ryan\\GitHub\\electroviz\\electroviz\\core\\unit.py:61\u001b[0m, in \u001b[0;36mUnit.plot_raster\u001b[1;34m(self, stimulus, time_window, bin_size, zscore, ax_in)\u001b[0m\n\u001b[0;32m     51\u001b[0m \u001b[39mdef\u001b[39;00m \u001b[39mplot_raster\u001b[39m(\n\u001b[0;32m     52\u001b[0m         \u001b[39mself\u001b[39m, \n\u001b[0;32m     53\u001b[0m         stimulus, \n\u001b[1;32m   (...)\u001b[0m\n\u001b[0;32m     57\u001b[0m         ax_in\u001b[39m=\u001b[39m\u001b[39mNone\u001b[39;00m, \n\u001b[0;32m     58\u001b[0m     ):\n\u001b[0;32m     59\u001b[0m \u001b[39m    \u001b[39m\u001b[39m\"\"\"\"\"\"\u001b[39;00m\n\u001b[1;32m---> 61\u001b[0m     responses \u001b[39m=\u001b[39m \u001b[39mself\u001b[39;49m\u001b[39m.\u001b[39;49mget_response(stimulus, time_window, bin_size\u001b[39m=\u001b[39;49mbin_size)\n\u001b[0;32m     62\u001b[0m     Raster(time_window, responses, ylabel\u001b[39m=\u001b[39m\u001b[39m\"\u001b[39m\u001b[39mStimulus Event\u001b[39m\u001b[39m\"\u001b[39m, z_score\u001b[39m=\u001b[39mzscore, ax_in\u001b[39m=\u001b[39max_in)\n",
      "File \u001b[1;32mC:\\Ryan\\GitHub\\electroviz\\electroviz\\core\\unit.py:91\u001b[0m, in \u001b[0;36mUnit.get_response\u001b[1;34m(self, stimulus, time_window, bin_size)\u001b[0m\n\u001b[0;32m     89\u001b[0m     window \u001b[39m=\u001b[39m (sample_window \u001b[39m+\u001b[39m event\u001b[39m.\u001b[39msample_onset)\u001b[39m.\u001b[39mastype(\u001b[39mint\u001b[39m)\n\u001b[0;32m     90\u001b[0m     resp \u001b[39m=\u001b[39m \u001b[39mself\u001b[39m\u001b[39m.\u001b[39mget_spike_times(sample_window\u001b[39m=\u001b[39mwindow)\n\u001b[1;32m---> 91\u001b[0m     bin_resp \u001b[39m=\u001b[39m resp\u001b[39m.\u001b[39;49mreshape((num_bins, \u001b[39m-\u001b[39;49m\u001b[39m1\u001b[39;49m))\u001b[39m.\u001b[39;49msum(axis\u001b[39m=\u001b[39;49m\u001b[39m1\u001b[39;49m) \u001b[39m/\u001b[39m (bin_size \u001b[39m/\u001b[39m \u001b[39m1000\u001b[39m)\n\u001b[0;32m     92\u001b[0m     responses[idx, :] \u001b[39m=\u001b[39m bin_resp\n\u001b[0;32m     93\u001b[0m \u001b[39mreturn\u001b[39;00m responses\n",
      "File \u001b[1;32mc:\\Users\\TLab\\anaconda3\\envs\\electroviz\\Lib\\site-packages\\numpy\\core\\_methods.py:49\u001b[0m, in \u001b[0;36m_sum\u001b[1;34m(a, axis, dtype, out, keepdims, initial, where)\u001b[0m\n\u001b[0;32m     47\u001b[0m \u001b[39mdef\u001b[39;00m \u001b[39m_sum\u001b[39m(a, axis\u001b[39m=\u001b[39m\u001b[39mNone\u001b[39;00m, dtype\u001b[39m=\u001b[39m\u001b[39mNone\u001b[39;00m, out\u001b[39m=\u001b[39m\u001b[39mNone\u001b[39;00m, keepdims\u001b[39m=\u001b[39m\u001b[39mFalse\u001b[39;00m,\n\u001b[0;32m     48\u001b[0m          initial\u001b[39m=\u001b[39m_NoValue, where\u001b[39m=\u001b[39m\u001b[39mTrue\u001b[39;00m):\n\u001b[1;32m---> 49\u001b[0m     \u001b[39mreturn\u001b[39;00m umr_sum(a, axis, dtype, out, keepdims, initial, where)\n",
      "\u001b[1;31mKeyboardInterrupt\u001b[0m: "
     ]
    }
   ],
   "source": [
    "from electroviz.core.kernel import SparseNoiseKernel\n",
    "from electroviz.core.kernel import StaticGratingsKernel\n",
    "from electroviz.viz.summary import UnitSummary\n",
    "import matplotlib.pyplot as plt\n",
    "\n",
    "population = pop0_sort\n",
    "ctx_range = (40, 80)\n",
    "lgn_range = (225, 390)\n",
    "\n",
    "for ctx_idx, ctx_unit in enumerate(population[slice(*ctx_range)]):\n",
    "\n",
    "    kernels = [SparseNoiseKernel(ctx_unit, stimuli[0]), \n",
    "               SparseNoiseKernel(ctx_unit, stimuli[1]), \n",
    "               StaticGratingsKernel(ctx_unit, stimuli[2]), \n",
    "               StaticGratingsKernel(ctx_unit, stimuli[3])]\n",
    "\n",
    "    file_path = \"G:/Shared drives/Neuropixels/Figures/RG008/UnitSummary/CTX/\"\n",
    "    file_name = \"Probe1_Unit{0}\".format(str(ctx_idx + ctx_range[0]))\n",
    "\n",
    "    UnitSummary(ctx_unit, stimuli[:4], kernels, save_path=file_path+file_name)\n",
    "\n",
    "    plt.close(\"all\")"
   ]
  }
 ],
 "metadata": {
  "kernelspec": {
   "display_name": "electroviz",
   "language": "python",
   "name": "python3"
  },
  "language_info": {
   "codemirror_mode": {
    "name": "ipython",
    "version": 3
   },
   "file_extension": ".py",
   "mimetype": "text/x-python",
   "name": "python",
   "nbconvert_exporter": "python",
   "pygments_lexer": "ipython3",
   "version": "3.11.0"
  },
  "orig_nbformat": 4,
  "vscode": {
   "interpreter": {
    "hash": "1fb4b2cfc8d15aec02b8cc7121941021c270b8e341355eddc34cc64ffaa6e9cb"
   }
  }
 },
 "nbformat": 4,
 "nbformat_minor": 2
}
