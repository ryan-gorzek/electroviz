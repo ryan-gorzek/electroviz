{
 "cells": [
  {
   "cell_type": "code",
   "execution_count": null,
   "metadata": {},
   "outputs": [],
   "source": [
    "from electroviz.core.experiment import Experiment\n",
    "from electroviz.core.kernel import SparseNoiseKernel\n",
    "from electroviz.core.kernel import StaticGratingsKernel\n",
    "from electroviz.viz.summary import UnitSummary\n",
    "import matplotlib.pyplot as plt\n",
    "\n",
    "exp = Experiment(\"E:/RG008/\")\n",
    "stimuli = exp.stimuli\n",
    "pop0 = exp.populations[0]\n",
    "pop0 = pop0.remove(pop0.units[\"total_spikes\"] < 1500)\n",
    "pop0_sort = pop0.sort(\"peak_channel\")\n",
    "\n",
    "population = pop0_sort\n",
    "ctx_range = (0, 70)\n",
    "lgn_range = (140, 210)\n",
    "\n",
    "# for ctx_idx, ctx_unit in enumerate(population[slice(*ctx_range)]):\n",
    "\n",
    "#     kernels = [SparseNoiseKernel(ctx_unit, stimuli[0]), \n",
    "#                SparseNoiseKernel(ctx_unit, stimuli[1]), \n",
    "#                StaticGratingsKernel(ctx_unit, stimuli[2]), \n",
    "#                StaticGratingsKernel(ctx_unit, stimuli[3])]\n",
    "\n",
    "#     file_path = \"G:/Shared drives/Neuropixels/Figures/RG008/UnitSummary/CTX/\"\n",
    "#     file_name = \"Probe2_Unit{0}\".format(str(ctx_idx + ctx_range[0]))\n",
    "\n",
    "#     UnitSummary(ctx_unit, stimuli, kernels, save_path=file_path+file_name)\n",
    "\n",
    "#     plt.close(\"all\")\n",
    "\n",
    "for lgn_idx, lgn_unit in enumerate(population[slice(*lgn_range)]):\n",
    "\n",
    "    kernels = [SparseNoiseKernel(lgn_unit, stimuli[0]), \n",
    "               SparseNoiseKernel(lgn_unit, stimuli[1]), \n",
    "               StaticGratingsKernel(lgn_unit, stimuli[2]), \n",
    "               StaticGratingsKernel(lgn_unit, stimuli[3])]\n",
    "\n",
    "    file_path = \"G:/Shared drives/Neuropixels/Figures/RG008/UnitSummary/LGN/\"\n",
    "    file_name = \"Probe0_Unit{0}\".format(str(lgn_idx + lgn_range[0]))\n",
    "\n",
    "    UnitSummary(lgn_unit, stimuli, kernels, save_path=file_path+file_name)\n",
    "\n",
    "    plt.close(\"all\")"
   ]
  },
  {
   "cell_type": "code",
   "execution_count": 1,
   "metadata": {},
   "outputs": [
    {
     "name": "stdout",
     "output_type": "stream",
     "text": [
      "Parsing directories...\n",
      "Loading NIDAQ data...\n",
      "Loading bTsS data...\n",
      "Loading Imec data...\n",
      "Loading Kilosort data...\n",
      "Aligning Syncs...\n",
      "Creating Stimuli...\n",
      "Creating Populations...\n",
      "Creating Probes...\n",
      "Done!\n"
     ]
    }
   ],
   "source": [
    "from electroviz.core.experiment import Experiment\n",
    "from electroviz.core.kernel import SparseNoiseKernel\n",
    "from electroviz.core.kernel import StaticGratingsKernel\n",
    "from electroviz.viz.summary import PairSummary\n",
    "import matplotlib.pyplot as plt\n",
    "\n",
    "exp = Experiment(\"E:/RG008/\")\n",
    "stimuli = exp.stimuli\n",
    "pop0 = exp.populations[0]\n",
    "pop0 = pop0.remove(pop0.units[\"total_spikes\"] < 1500)\n",
    "pop0_sort = pop0.sort(\"peak_channel\")\n",
    "pop1 = exp.populations[1]\n",
    "pop1 = pop1.remove(pop1.units[\"total_spikes\"] < 1500)\n",
    "pop1_sort = pop1.sort(\"peak_channel\")\n",
    "\n",
    "lgn_pop = pop0_sort\n",
    "ctx_pop = pop1_sort\n",
    "\n",
    "lgn_units = (149, 151, 152, 157, 166, 170, 175, 181, 191)\n",
    "# ctx_units = (1, 3, 4, 9, 12, 15, 31, 32, 43, 47, 48)\n",
    "ctx_units = (7, 8, 10, 11, 12, 13, 14, 15, 16, 17, 18, 20, 37, 46, 48, 52, 57, 60, 61)\n",
    "\n",
    "for lgn_idx in lgn_units:\n",
    "    for ctx_idx in ctx_units:\n",
    "\n",
    "        lgn_unit = lgn_pop[lgn_idx]\n",
    "        ctx_unit = ctx_pop[ctx_idx]\n",
    "        \n",
    "        lgn_kernels = [SparseNoiseKernel(lgn_unit, stimuli[0]), \n",
    "                       SparseNoiseKernel(lgn_unit, stimuli[1]), \n",
    "                       StaticGratingsKernel(lgn_unit, stimuli[2]), \n",
    "                       StaticGratingsKernel(lgn_unit, stimuli[3])]\n",
    "\n",
    "        ctx_kernels = [SparseNoiseKernel(ctx_unit, stimuli[0]), \n",
    "                       SparseNoiseKernel(ctx_unit, stimuli[1]), \n",
    "                       StaticGratingsKernel(ctx_unit, stimuli[2]), \n",
    "                       StaticGratingsKernel(ctx_unit, stimuli[3])]\n",
    "\n",
    "        file_path = \"G:/Shared drives/Neuropixels/Figures/RG008/PairSummary/\"\n",
    "        file_name = \"Unbinned_Probe2_Unit{0}_Probe0_Unit{1}\".format(str(ctx_idx), str(lgn_idx))\n",
    "\n",
    "        PairSummary((ctx_unit, lgn_unit), stimuli, (ctx_kernels, lgn_kernels), drop_stim=stimuli[5], save_path=file_path+file_name)\n",
    "\n",
    "        plt.close(\"all\")"
   ]
  },
  {
   "cell_type": "code",
   "execution_count": 1,
   "metadata": {},
   "outputs": [],
   "source": [
    "paths = [\"E:/RG010/ephys_g0\", \n",
    "         \"E:/RG010/ephys_g1\", \n",
    "         \"E:/RG010/ephys_g5\", \n",
    "         \"E:/RG010/ephys_g8\", \n",
    "         \"E:/RG010/ephys_g9\", \n",
    "         \"E:/RG010/ephys_g10\"]\n",
    "\n",
    "from electroviz.utils.imec_sets import imec_sets\n",
    "\n",
    "imec_sets(paths, save_path=\"E:/RG010/catgt_ephys_g0/\")"
   ]
  }
 ],
 "metadata": {
  "kernelspec": {
   "display_name": "electroviz",
   "language": "python",
   "name": "python3"
  },
  "language_info": {
   "codemirror_mode": {
    "name": "ipython",
    "version": 3
   },
   "file_extension": ".py",
   "mimetype": "text/x-python",
   "name": "python",
   "nbconvert_exporter": "python",
   "pygments_lexer": "ipython3",
   "version": "3.11.0"
  },
  "orig_nbformat": 4,
  "vscode": {
   "interpreter": {
    "hash": "1fb4b2cfc8d15aec02b8cc7121941021c270b8e341355eddc34cc64ffaa6e9cb"
   }
  }
 },
 "nbformat": 4,
 "nbformat_minor": 2
}
