{
 "cells": [
  {
   "cell_type": "code",
   "execution_count": 1,
   "metadata": {},
   "outputs": [],
   "source": [
    "from electroviz.core.experiment import Experiment\n",
    "\n",
    "exp = Experiment(\"E:/RG001/\")\n",
    "\n",
    "stimuli = exp.stimuli\n",
    "pop0 = exp.populations[0]\n",
    "pop0 = pop0.remove(pop0.units[\"total_spikes\"] < 100)\n",
    "pop0_sort = pop0.sort(\"depth\")"
   ]
  },
  {
   "cell_type": "code",
   "execution_count": null,
   "metadata": {},
   "outputs": [],
   "source": [
    "from electroviz.core.kernel import SparseNoiseKernel\n",
    "from electroviz.core.kernel import StaticGratingsKernel\n",
    "from electroviz.viz.summary import PairSummary\n",
    "import matplotlib.pyplot as plt\n",
    "\n",
    "stims = [stimuli[2], stimuli[1], stimuli[4], stimuli[0]]\n",
    "\n",
    "for ctx_idx, ctx_unit in enumerate(pop0_sort[100:200]):\n",
    "\n",
    "    ctx_kernels = [SparseNoiseKernel(ctx_unit, stims[0]), \n",
    "                   SparseNoiseKernel(ctx_unit, stims[1]), \n",
    "                   StaticGratingsKernel(ctx_unit, stims[2]), \n",
    "                   StaticGratingsKernel(ctx_unit, stims[3])]\n",
    "\n",
    "    for lgn_idx, lgn_unit in enumerate(pop0_sort[600:700]):\n",
    "\n",
    "        lgn_kernels = [SparseNoiseKernel(lgn_unit, stims[0]), \n",
    "                       SparseNoiseKernel(lgn_unit, stims[1]), \n",
    "                       StaticGratingsKernel(lgn_unit, stims[2]), \n",
    "                       StaticGratingsKernel(lgn_unit, stims[3])]\n",
    "\n",
    "        file_path = \"G:/Shared drives/Neuropixels/Figures/RG001/PairSummary/\"\n",
    "        file_name = \"PairSummary_{0}_{1}.png\".format(str(ctx_idx + 100), str(lgn_idx + 600))\n",
    "\n",
    "        PairSummary(stims, (ctx_unit, lgn_unit), (ctx_kernels, lgn_kernels), save_path=file_path+file_name)\n",
    "\n",
    "        plt.close(\"all\")"
   ]
  },
  {
   "cell_type": "code",
   "execution_count": 42,
   "metadata": {},
   "outputs": [],
   "source": [
    "from electroviz.core.kernel import SparseNoiseKernel\n",
    "from electroviz.core.kernel import StaticGratingsKernel\n",
    "from electroviz.viz.summary import PairSummary\n",
    "\n",
    "stims = [stimuli[2], stimuli[1], stimuli[4], stimuli[0]]\n",
    "\n",
    "ctx_unit = pop0_sort[130]\n",
    "ctx_kernels = [SparseNoiseKernel(ctx_unit, stims[0]), \n",
    "                SparseNoiseKernel(ctx_unit, stims[1]), \n",
    "                StaticGratingsKernel(ctx_unit, stims[2]), \n",
    "                StaticGratingsKernel(ctx_unit, stims[3])]\n",
    "\n",
    "lgn_unit = pop0_sort[685]\n",
    "lgn_kernels = [SparseNoiseKernel(lgn_unit, stims[0]), \n",
    "                SparseNoiseKernel(lgn_unit, stims[1]), \n",
    "                StaticGratingsKernel(lgn_unit, stims[2]), \n",
    "                StaticGratingsKernel(lgn_unit, stims[3])]\n",
    "\n",
    "PairSummary(stims, (ctx_unit, lgn_unit), (ctx_kernels, lgn_kernels))"
   ]
  },
  {
   "cell_type": "code",
   "execution_count": null,
   "metadata": {},
   "outputs": [],
   "source": [
    "from electroviz.core.kernel import SparseNoiseKernel\n",
    "from electroviz.core.kernel import StaticGratingsKernel\n",
    "from electroviz.utils.cross_corr import cross_corr\n",
    "import pandas as pd\n",
    "\n",
    "xcorr_df = pd.DataFrame()\n",
    "\n",
    "for ctx_idx, ctx_unit in enumerate(pop0_sort[50:150]):\n",
    "    for lgn_idx, lgn_unit in enumerate(pop0_sort[625:725]):\n",
    "        xcorr_raw, xcorr_filt = cross_corr((ctx_unit, lgn_unit))\n",
    "        peak_raw, base_raw = xcorr_raw[52:56].mean(), xcorr_raw[47:51].mean()\n",
    "        peak_filt, base_filt_mean, base_filt_max = xcorr_filt[52:56].max(), xcorr_filt[47:51].mean(), xcorr_filt[47:51].max()\n",
    "        df_add = pd.DataFrame({\"ctx\" : [ctx_idx + 50], \n",
    "                               \"lgn\" : [lgn_idx + 625], \n",
    "                               \"raw\" : [peak_raw / base_raw], \n",
    "                               \"filt_mean_full\": [peak_filt - xcorr_filt.mean()], \n",
    "                               \"filt_mean\": [peak_filt - base_filt_mean], \n",
    "                               \"filt_max\": [peak_filt - base_filt_max]})\n",
    "        xcorr_df = pd.concat((xcorr_df, df_add))"
   ]
  },
  {
   "cell_type": "code",
   "execution_count": 50,
   "metadata": {},
   "outputs": [],
   "source": [
    "from electroviz.core.kernel import SparseNoiseKernel\n",
    "from electroviz.core.kernel import StaticGratingsKernel\n",
    "from electroviz.viz.summary import PairSummary\n",
    "import numpy as np\n",
    "import matplotlib.pyplot as plt\n",
    "\n",
    "stims = [stimuli[2], stimuli[1], stimuli[4], stimuli[0]]\n",
    "\n",
    "df_filt = xcorr_df.sort_values(by=\"filt_max\")[::-1][50:100]\n",
    "\n",
    "for ctx_idx, lgn_idx in zip(np.array(df_filt[\"ctx\"]), np.array(df_filt[\"lgn\"])):\n",
    "\n",
    "    ctx_unit = pop0_sort[int(ctx_idx)]\n",
    "    ctx_kernels = [SparseNoiseKernel(ctx_unit, stims[0]), \n",
    "                    SparseNoiseKernel(ctx_unit, stims[1]), \n",
    "                    StaticGratingsKernel(ctx_unit, stims[2]), \n",
    "                    StaticGratingsKernel(ctx_unit, stims[3])]\n",
    "\n",
    "    lgn_unit = pop0_sort[int(lgn_idx)]\n",
    "    lgn_kernels = [SparseNoiseKernel(lgn_unit, stims[0]), \n",
    "                    SparseNoiseKernel(lgn_unit, stims[1]), \n",
    "                    StaticGratingsKernel(lgn_unit, stims[2]), \n",
    "                    StaticGratingsKernel(lgn_unit, stims[3])]\n",
    "\n",
    "    file_path = \"G:/Shared drives/Neuropixels/Figures/RG001/PairSummary/\"\n",
    "    file_name = \"PairSummary_{0}_{1}.png\".format(str(ctx_idx), str(lgn_idx))\n",
    "\n",
    "    PairSummary(stims, (ctx_unit, lgn_unit), (ctx_kernels, lgn_kernels), save_path=file_path+file_name)\n",
    "\n",
    "    plt.close(\"all\")"
   ]
  }
 ],
 "metadata": {
  "kernelspec": {
   "display_name": "electroviz",
   "language": "python",
   "name": "python3"
  },
  "language_info": {
   "codemirror_mode": {
    "name": "ipython",
    "version": 3
   },
   "file_extension": ".py",
   "mimetype": "text/x-python",
   "name": "python",
   "nbconvert_exporter": "python",
   "pygments_lexer": "ipython3",
   "version": "3.11.0"
  },
  "orig_nbformat": 4,
  "vscode": {
   "interpreter": {
    "hash": "919cc63325a5b63abc424611aa5956c143ddc5160d557e18e04e8bd60c16f5cf"
   }
  }
 },
 "nbformat": 4,
 "nbformat_minor": 2
}
