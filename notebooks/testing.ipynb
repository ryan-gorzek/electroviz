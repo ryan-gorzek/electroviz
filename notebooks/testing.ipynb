{
 "cells": [
  {
   "cell_type": "code",
   "execution_count": 1,
   "metadata": {},
   "outputs": [
    {
     "name": "stderr",
     "output_type": "stream",
     "text": [
      "C:\\Ryan\\GitHub\\electroviz\\electroviz\\streams\\spikes.py:105: RuntimeWarning: Mean of empty slice\n",
      "  cluster_depths.append(np.nanmean(spike_depths[cluster_idx]))\n"
     ]
    }
   ],
   "source": [
    "import numpy as np\n",
    "from electroviz.core.experiment import Experiment\n",
    "\n",
    "exp = Experiment(\"E:/20221205_155624/\")\n",
    "\n",
    "stimuli = exp.stimuli\n",
    "pop0 = exp.populations[0]\n",
    "pop0 = pop0.remove(pop0.units[\"total_spikes\"] < 1000)\n",
    "pop0_sort = pop0.sort(\"depth\")"
   ]
  },
  {
   "cell_type": "code",
   "execution_count": 2,
   "metadata": {},
   "outputs": [],
   "source": [
    "from electroviz.core.kernel import SparseNoiseKernel\n",
    "unit = pop0_sort[25]\n",
    "stim = stimuli[0]\n",
    "kern = SparseNoiseKernel(unit, stim)\n",
    "kern.plot_norm_delay()"
   ]
  },
  {
   "cell_type": "code",
   "execution_count": 3,
   "metadata": {},
   "outputs": [],
   "source": [
    "from electroviz.core.kernel import StaticGratingsKernel\n",
    "unit = pop0_sort[25]\n",
    "stim = stimuli[0]\n",
    "kern = StaticGratingsKernel(unit, stim)\n",
    "kern.plot_norm_delay()"
   ]
  }
 ],
 "metadata": {
  "kernelspec": {
   "display_name": "electroviz",
   "language": "python",
   "name": "python3"
  },
  "language_info": {
   "codemirror_mode": {
    "name": "ipython",
    "version": 3
   },
   "file_extension": ".py",
   "mimetype": "text/x-python",
   "name": "python",
   "nbconvert_exporter": "python",
   "pygments_lexer": "ipython3",
   "version": "3.11.0 | packaged by conda-forge | (main, Oct 25 2022, 06:24:51) [Clang 14.0.4 ]"
  },
  "orig_nbformat": 4,
  "vscode": {
   "interpreter": {
    "hash": "919cc63325a5b63abc424611aa5956c143ddc5160d557e18e04e8bd60c16f5cf"
   }
  }
 },
 "nbformat": 4,
 "nbformat_minor": 2
}
