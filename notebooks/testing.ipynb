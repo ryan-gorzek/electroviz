{
 "cells": [
  {
   "cell_type": "code",
   "execution_count": 1,
   "metadata": {},
   "outputs": [
    {
     "name": "stdout",
     "output_type": "stream",
     "text": [
      "Parsing directories...\n",
      "Loading NIDAQ data...\n",
      "Loading Imec data...\n",
      "Loading Kilosort data...\n"
     ]
    },
    {
     "name": "stderr",
     "output_type": "stream",
     "text": [
      "C:\\Ryan\\GitHub\\electroviz\\electroviz\\streams\\spikes.py:109: RuntimeWarning: Mean of empty slice\n",
      "  cluster_depths.append(np.nanmean(spike_depths[cluster_idx]))\n"
     ]
    },
    {
     "name": "stdout",
     "output_type": "stream",
     "text": [
      "Aligning Syncs...\n",
      "Loading bTsS data...\n",
      "Creating Stimuli...\n",
      "Creating Populations...\n",
      "Creating Probes...\n",
      "Done!\n"
     ]
    }
   ],
   "source": [
    "from electroviz.core.experiment import Experiment\n",
    "\n",
    "exp = Experiment(\"E:/RG007/\")"
   ]
  }
 ],
 "metadata": {
  "kernelspec": {
   "display_name": "electroviz",
   "language": "python",
   "name": "python3"
  },
  "language_info": {
   "codemirror_mode": {
    "name": "ipython",
    "version": 3
   },
   "file_extension": ".py",
   "mimetype": "text/x-python",
   "name": "python",
   "nbconvert_exporter": "python",
   "pygments_lexer": "ipython3",
   "version": "3.11.0"
  },
  "orig_nbformat": 4,
  "vscode": {
   "interpreter": {
    "hash": "1fb4b2cfc8d15aec02b8cc7121941021c270b8e341355eddc34cc64ffaa6e9cb"
   }
  }
 },
 "nbformat": 4,
 "nbformat_minor": 2
}
