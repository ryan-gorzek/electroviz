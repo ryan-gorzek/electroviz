{
 "cells": [
  {
   "cell_type": "code",
   "execution_count": null,
   "metadata": {},
   "outputs": [],
   "source": [
    "from electroviz.core.experiment import Experiment\n",
    "from electroviz.core.kernel import SparseNoiseKernel\n",
    "from electroviz.core.kernel import StaticGratingsKernel\n",
    "from electroviz.utils.cross_corr import plot_cross_corr\n",
    "import matplotlib.pyplot as plt\n",
    "\n",
    "exp = Experiment(\"E:/RG001/\")\n",
    "\n",
    "stimuli = exp.stimuli\n",
    "pop0 = exp.populations[0]\n",
    "pop0 = pop0.remove(pop0.units[\"total_spikes\"] < 100)\n",
    "pop0_sort = pop0.sort(\"depth\")\n",
    "\n",
    "for ctx_idx, ctx_unit in enumerate(pop0_sort[20:300]):\n",
    "    for lgn_idx, lgn_unit in enumerate(pop0_sort[590:730]):\n",
    "        file_path = \"G:/Shared drives/Neuropixels/Figures/RG001/CrossCorr/\"\n",
    "        file_name = \"Probe1_Unit{0}_Probe1_Unit{1}.png\".format(str(ctx_idx+20), str(lgn_idx+590))\n",
    "        plot_cross_corr((ctx_unit, lgn_unit), save_path=file_path+file_name)\n",
    "        plt.close(\"all\")\n",
    "\n",
    "%reset -f\n",
    "\n",
    "from electroviz.core.experiment import Experiment\n",
    "from electroviz.core.kernel import SparseNoiseKernel\n",
    "from electroviz.core.kernel import StaticGratingsKernel\n",
    "from electroviz.utils.cross_corr import plot_cross_corr\n",
    "import matplotlib.pyplot as plt\n",
    "\n",
    "exp = Experiment(\"E:/RG008/\")\n",
    "\n",
    "stimuli = exp.stimuli\n",
    "pop0 = exp.populations[0]\n",
    "pop0 = pop0.remove(pop0.units[\"total_spikes\"] < 100)\n",
    "pop0_sort = pop0.sort(\"depth\")\n",
    "\n",
    "pop1 = exp.populations[1]\n",
    "pop1 = pop1.remove(pop1.units[\"total_spikes\"] < 100)\n",
    "pop1_sort = pop1.sort(\"depth\")\n",
    "\n",
    "for ctx_idx, ctx_unit in enumerate(pop1_sort[:130]):\n",
    "    for lgn_idx, lgn_unit in enumerate(pop0_sort[230:480]):\n",
    "        file_path = \"G:/Shared drives/Neuropixels/Figures/RG008/CrossCorr/\"\n",
    "        file_name = \"Probe2_Unit{0}_Probe0_Unit{1}.png\".format(str(ctx_idx), str(lgn_idx+230))\n",
    "        plot_cross_corr((ctx_unit, lgn_unit), save_path=file_path+file_name)\n",
    "        plt.close(\"all\")"
   ]
  },
  {
   "cell_type": "code",
   "execution_count": 1,
   "metadata": {},
   "outputs": [],
   "source": [
    "from electroviz.core.experiment import Experiment\n",
    "from electroviz.core.kernel import SparseNoiseKernel\n",
    "from electroviz.core.kernel import StaticGratingsKernel\n",
    "from electroviz.utils.cross_corr import cross_corr\n",
    "\n",
    "exp = Experiment(\"E:/RG001/\")\n",
    "\n",
    "stimuli = exp.stimuli\n",
    "pop0 = exp.populations[0]\n",
    "pop0 = pop0.remove(pop0.units[\"total_spikes\"] < 100)\n",
    "pop0_sort = pop0.sort(\"depth\")\n",
    "\n",
    "ctx_unit = pop0_sort[92]\n",
    "lgn_unit = pop0_sort[657]\n",
    "\n",
    "xcorr_raw, xcorr_filt = cross_corr((ctx_unit, lgn_unit))"
   ]
  }
 ],
 "metadata": {
  "kernelspec": {
   "display_name": "electroviz",
   "language": "python",
   "name": "python3"
  },
  "language_info": {
   "codemirror_mode": {
    "name": "ipython",
    "version": 3
   },
   "file_extension": ".py",
   "mimetype": "text/x-python",
   "name": "python",
   "nbconvert_exporter": "python",
   "pygments_lexer": "ipython3",
   "version": "3.11.0"
  },
  "orig_nbformat": 4,
  "vscode": {
   "interpreter": {
    "hash": "1fb4b2cfc8d15aec02b8cc7121941021c270b8e341355eddc34cc64ffaa6e9cb"
   }
  }
 },
 "nbformat": 4,
 "nbformat_minor": 2
}
