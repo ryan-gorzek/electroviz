{
 "cells": [
  {
   "cell_type": "code",
   "execution_count": 1,
   "metadata": {},
   "outputs": [],
   "source": [
    "import numpy as np\n",
    "from itertools import chain\n",
    "from electroviz.core.experiment import Experiment\n",
    "from electroviz.core.kernel import SparseNoiseKernel\n",
    "from electroviz.core.kernel import StaticGratingsKernel\n",
    "\n",
    "exp = Experiment(\"E:/RG001/\")\n",
    "\n",
    "stimuli = exp.stimuli\n",
    "pop0 = exp.populations[0]\n",
    "pop0 = pop0.remove(pop0.units[\"spike_rate\"] < 1)\n",
    "pop0_sort = pop0.sort(\"depth\")\n",
    "\n",
    "all_stim = list(chain(*stimuli))\n",
    "pop0_sort.plot_raster(all_stim)\n",
    "\n",
    "unit = pop0_sort[15]\n",
    "stims = [stimuli[2], stimuli[1], stimuli[4], stimuli[0]]\n",
    "kernels = [SparseNoiseKernel(unit, stims[0]), \n",
    "           SparseNoiseKernel(unit, stims[1]), \n",
    "           StaticGratingsKernel(unit, stims[2]), \n",
    "           StaticGratingsKernel(unit, stims[3])]\n",
    "unit.plot_summary(stims, kernels)"
   ]
  }
 ],
 "metadata": {
  "kernelspec": {
   "display_name": "electroviz",
   "language": "python",
   "name": "python3"
  },
  "language_info": {
   "codemirror_mode": {
    "name": "ipython",
    "version": 3
   },
   "file_extension": ".py",
   "mimetype": "text/x-python",
   "name": "python",
   "nbconvert_exporter": "python",
   "pygments_lexer": "ipython3",
   "version": "3.11.0"
  },
  "orig_nbformat": 4,
  "vscode": {
   "interpreter": {
    "hash": "1fb4b2cfc8d15aec02b8cc7121941021c270b8e341355eddc34cc64ffaa6e9cb"
   }
  }
 },
 "nbformat": 4,
 "nbformat_minor": 2
}
