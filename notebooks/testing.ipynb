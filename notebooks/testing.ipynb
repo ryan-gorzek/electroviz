{
 "cells": [
  {
   "cell_type": "code",
   "execution_count": null,
   "metadata": {},
   "outputs": [],
   "source": [
    "import numpy as np\n",
    "import pandas as pd\n",
    "from electroviz.core.experiment import Experiment\n",
    "from electroviz.utils.cross_corr import cross_corr\n",
    "\n",
    "exp = Experiment(\"E:/RG001/\")\n",
    "\n",
    "stimuli = exp.stimuli\n",
    "pop0 = exp.populations[0]\n",
    "pop0 = pop0.remove(pop0.units[\"spike_rate\"] < 1)\n",
    "pop0_sort = pop0.sort(\"depth\")\n",
    "\n",
    "xcorr_df = pd.DataFrame()\n",
    "\n",
    "for cortex_idx, cortex_unit in enumerate(pop0_sort[:5]): # :90\n",
    "    for lgn_idx, lgn_unit in enumerate(pop0_sort[185:190]): # 185:270\n",
    "        xcorr = cross_corr(cortex_unit, lgn_unit, stimuli[4], rand_iters=10)\n",
    "        baseline = xcorr[90:100].mean()\n",
    "        response = xcorr[102:106].mean()\n",
    "        xc = response / baseline\n",
    "        df = pd.DataFrame({\"cortex_idx\":[cortex_idx], \"lgn_idx\":[lgn_idx + 185], \"xcorr\":[xc]})\n",
    "        xcorr_df = pd.concat((xcorr_df, df))"
   ]
  }
 ],
 "metadata": {
  "kernelspec": {
   "display_name": "electroviz",
   "language": "python",
   "name": "python3"
  },
  "language_info": {
   "codemirror_mode": {
    "name": "ipython",
    "version": 3
   },
   "file_extension": ".py",
   "mimetype": "text/x-python",
   "name": "python",
   "nbconvert_exporter": "python",
   "pygments_lexer": "ipython3",
   "version": "3.11.0"
  },
  "orig_nbformat": 4,
  "vscode": {
   "interpreter": {
    "hash": "919cc63325a5b63abc424611aa5956c143ddc5160d557e18e04e8bd60c16f5cf"
   }
  }
 },
 "nbformat": 4,
 "nbformat_minor": 2
}
