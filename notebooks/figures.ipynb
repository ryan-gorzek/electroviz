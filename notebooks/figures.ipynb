{
 "cells": [
  {
   "attachments": {},
   "cell_type": "markdown",
   "metadata": {},
   "source": [
    "RG008 LGN Probe (Imec0) Raster"
   ]
  },
  {
   "cell_type": "code",
   "execution_count": 1,
   "metadata": {},
   "outputs": [
    {
     "name": "stdout",
     "output_type": "stream",
     "text": [
      "Parsing directories...\n",
      "Loading NIDAQ data...\n",
      "Loading bTsS data...\n",
      "Loading Imec data...\n",
      "Loading Kilosort data...\n",
      "Aligning Syncs...\n",
      "Creating Stimuli...\n",
      "Creating Populations...\n",
      "Creating Probes...\n",
      "Done!\n"
     ]
    }
   ],
   "source": [
    "from electroviz.core.experiment import Experiment\n",
    "import matplotlib.pyplot as plt\n",
    "from itertools import chain\n",
    "\n",
    "exp = Experiment(\"E:/RG008/\")\n",
    "stimuli = exp.stimuli\n",
    "pop0 = exp.populations[0]\n",
    "pop0 = pop0.remove(pop0.units[\"total_spikes\"] < 1500)\n",
    "pop0_sort = pop0.sort(\"peak_channel\")[50:]\n",
    "fig, ax = pop0_sort.plot_raster(list(chain(*stimuli[2:4])), return_ax=True)\n",
    "ax.set_yticks([])\n",
    "ax.set_ylabel(\"\")\n",
    "ax.spines[\"left\"].set_visible(False)\n",
    "ax.spines[\"top\"].set_visible(False)\n",
    "ax.spines[\"right\"].set_visible(False)\n",
    "ax.set_xlabel(\"Time from Stimulus Onset (ms)\")\n",
    "ax.invert_yaxis()\n",
    "ax.set_aspect(1.75)\n",
    "plt.show(block=False)\n",
    "fig.savefig(\"G:/Shared drives/Neuropixels/Figures/Grant/Figure 1/LGN_Raster.svg\", bbox_inches=\"tight\")"
   ]
  },
  {
   "attachments": {},
   "cell_type": "markdown",
   "metadata": {},
   "source": [
    "RG001 CTX + LGN Probe (Imec1) Raster"
   ]
  },
  {
   "cell_type": "code",
   "execution_count": 100,
   "metadata": {},
   "outputs": [],
   "source": [
    "# from electroviz.core.experiment import Experiment\n",
    "# import matplotlib.pyplot as plt\n",
    "# from itertools import chain\n",
    "\n",
    "# exp = Experiment(\"E:/RG001/\")\n",
    "# stimuli = exp.stimuli\n",
    "# pop0 = exp.populations[0]\n",
    "# pop0 = pop0.remove(pop0.units[\"total_spikes\"] < 1500)\n",
    "# pop0_sort = pop0.sort(\"peak_channel\")\n",
    "# fig, ax = pop0_sort.plot_raster(list(chain(*stimuli[2:4])), return_ax=True)\n",
    "# ax.set_yticks([])\n",
    "# ax.set_ylabel(\"\")\n",
    "# ax.spines[\"left\"].set_visible(False)\n",
    "# ax.spines[\"top\"].set_visible(False)\n",
    "# ax.spines[\"right\"].set_visible(False)\n",
    "# ax.set_xlabel(\"Time from Stimulus Onset (ms)\")\n",
    "import matplotlib.pyplot as plt\n",
    "plt.rcParams.update({'font.size': 12})\n",
    "ax.set_aspect(1.25)\n",
    "plt.show(block=False)\n",
    "fig.savefig(\"G:/Shared drives/Neuropixels/Figures/Grant/Figure 1/V1bLGN_Raster.svg\", bbox_inches=\"tight\")"
   ]
  },
  {
   "attachments": {},
   "cell_type": "markdown",
   "metadata": {},
   "source": [
    "RG007 CTX Probe (Imec2) Raster"
   ]
  },
  {
   "cell_type": "code",
   "execution_count": 1,
   "metadata": {},
   "outputs": [
    {
     "name": "stdout",
     "output_type": "stream",
     "text": [
      "Parsing directories...\n",
      "Loading NIDAQ data...\n",
      "Loading bTsS data...\n",
      "Loading Imec data...\n",
      "Loading Kilosort data...\n",
      "Aligning Syncs...\n",
      "Creating Stimuli...\n",
      "Creating Populations...\n",
      "Creating Probes...\n",
      "Done!\n"
     ]
    }
   ],
   "source": [
    "from electroviz.core.experiment import Experiment\n",
    "import matplotlib.pyplot as plt\n",
    "from itertools import chain\n",
    "\n",
    "exp = Experiment(\"E:/RG007/\")\n",
    "stimuli = exp.stimuli\n",
    "pop0 = exp.populations[0]\n",
    "pop0 = pop0.remove(pop0.units[\"total_spikes\"] < 1500)\n",
    "pop0_sort = pop0.sort(\"peak_channel\")\n",
    "fig, ax = pop0_sort.plot_raster(list(chain(*stimuli[2:4])), return_ax=True)\n",
    "ax.set_yticks([])\n",
    "ax.set_ylabel(\"\")\n",
    "ax.spines[\"left\"].set_visible(False)\n",
    "ax.spines[\"top\"].set_visible(False)\n",
    "ax.spines[\"right\"].set_visible(False)\n",
    "ax.set_xlabel(\"Time from Stimulus Onset (ms)\")\n",
    "ax.set_aspect(1.05)\n",
    "plt.show(block=False)\n",
    "fig.savefig(\"G:/Shared drives/Neuropixels/Figures/Grant/Figure 1/CTX_Raster.svg\", bbox_inches=\"tight\")"
   ]
  },
  {
   "attachments": {},
   "cell_type": "markdown",
   "metadata": {},
   "source": [
    "RG008 V1b Probe (Imec1) Current Source Density"
   ]
  },
  {
   "cell_type": "code",
   "execution_count": 1,
   "metadata": {},
   "outputs": [
    {
     "name": "stdout",
     "output_type": "stream",
     "text": [
      "Parsing directories...\n",
      "Loading NIDAQ data...\n",
      "Loading bTsS data...\n",
      "Loading Imec data...\n",
      "Loading Kilosort data...\n",
      "Aligning Syncs...\n",
      "Creating Stimuli...\n",
      "Creating Populations...\n",
      "Creating Probes...\n",
      "Done!\n"
     ]
    }
   ],
   "source": [
    "from electroviz.core.experiment import Experiment\n",
    "import matplotlib.pyplot as plt\n",
    "from mpl_toolkits.axes_grid1.inset_locator import inset_axes\n",
    "from matplotlib.ticker import FormatStrFormatter\n",
    "\n",
    "exp = Experiment(\"E:/RG008/\")\n",
    "stimuli = exp.stimuli\n",
    "probe0 = exp.probes[0]\n",
    "\n",
    "fig, ax = probe0.plot_CSD(stimuli[2], subtract=True, return_ax=True)\n",
    "ax.set_ylim((22, 2))\n",
    "ax.set_xlim((50, 150))\n",
    "ax.set_yticks([2, 6, 10, 14, 18, 22])\n",
    "ax.set_yticklabels([0, -200, -400, -600, -800, -1000])\n",
    "ax.set_ylabel(\"Depth (\\u03BCm)\")\n",
    "ax.set_xticks([50, 70, 90, 110, 130, 150])\n",
    "ax.set_xticklabels([0, 20, 40, 60, 80, 100])\n",
    "ax.set_xlabel(\"Time from Stimulus Onset (ms)\")\n",
    "im = ax.get_images()\n",
    "im[0].set_clim((-2, 2))\n",
    "ax.cb_ax = inset_axes(ax.axes, width='5%', height='100%', loc='center right', borderpad=-2)\n",
    "colorbar = fig.colorbar(im[0], cax=ax.cb_ax)\n",
    "# colorbar.set_label(\"Current Source Density\", color='k', fontsize=20, rotation=0)\n",
    "ax.cb_ax.yaxis.tick_right()\n",
    "ax.cb_ax.yaxis.set_label_position(\"right\")\n",
    "ax.cb_ax.yaxis.set_major_formatter(FormatStrFormatter('%i'))\n",
    "ax.cb_ax.tick_params(labelsize=15)\n",
    "ax.cb_ax.yaxis.set_ticks([-2, -1, 0, 1, 2])\n",
    "plt.show(block=False)\n",
    "fig.savefig(\"G:/Shared drives/Neuropixels/Figures/Grant/Figure 1/CSD.svg\", bbox_inches=\"tight\")"
   ]
  },
  {
   "attachments": {},
   "cell_type": "markdown",
   "metadata": {},
   "source": [
    "Mean Waveforms"
   ]
  },
  {
   "cell_type": "code",
   "execution_count": 3,
   "metadata": {},
   "outputs": [
    {
     "name": "stdout",
     "output_type": "stream",
     "text": [
      "Parsing directories...\n",
      "Loading NIDAQ data...\n",
      "Loading bTsS data...\n",
      "Loading Imec data...\n",
      "Loading Kilosort data...\n",
      "Aligning Syncs...\n",
      "Creating Stimuli...\n",
      "Creating Populations...\n",
      "Creating Probes...\n",
      "Done!\n"
     ]
    }
   ],
   "source": [
    "from electroviz.core.experiment import Experiment\n",
    "import numpy as np\n",
    "\n",
    "def get_opto_response(population, stimuli):\n",
    "    opto_resp = []\n",
    "    for unit in population:\n",
    "        resp_bl = unit.get_response(stimuli[5], time_window=(-50, -10)).mean()\n",
    "        resp_stim = unit.get_response(stimuli[5], time_window=(5, 45)).mean()\n",
    "        opto_resp.append(resp_stim - resp_bl)\n",
    "    opto_resp = np.array(opto_resp)\n",
    "    return opto_resp\n",
    "\n",
    "exp = Experiment(\"E:/RG007/\")\n",
    "stimuli = exp.stimuli\n",
    "pop0 = exp.populations[0]\n",
    "pop0 = pop0.remove(pop0.units[\"total_spikes\"] < 1500)\n",
    "pop0_sort = pop0.sort(\"peak_channel\")\n",
    "\n",
    "opto_response = get_opto_response(pop0_sort[:90], stimuli)\n",
    "\n",
    "pop0_sort[:90].get_mean_waveforms(save_path=\"E:/RG007/catgt_ephys_g0/ephys_g0_imec2/waveforms\", stat_in=opto_response)"
   ]
  },
  {
   "cell_type": "code",
   "execution_count": 89,
   "metadata": {},
   "outputs": [],
   "source": [
    "import glob\n",
    "import numpy as np\n",
    "import matplotlib.pyplot as plt\n",
    "plt.rcParams[\"font.size\"] = 16\n",
    "plt.rcParams[\"xtick.major.size\"] = 8\n",
    "plt.rcParams[\"xtick.major.width\"] = 1\n",
    "plt.rcParams[\"ytick.major.size\"] = 8\n",
    "plt.rcParams[\"ytick.major.width\"] = 1\n",
    "from matplotlib import use as mpl_use\n",
    "from sklearn.cluster import KMeans\n",
    "\n",
    "paths = [\n",
    "    \"E:/RG008/catgt_ephys_g14/ephys_g14_imec1/waveforms\", \n",
    "    \"E:/RG008/catgt_ephys_g14/ephys_g14_imec2/waveforms\", \n",
    "    \"E:/RG007/catgt_ephys_g0/ephys_g0_imec2/waveforms\", \n",
    "         ]\n",
    "\n",
    "waveforms, pt_times, pt_ratios, opto_resps = [], [], [], []\n",
    "for path in paths:\n",
    "    wv_files = glob.glob(path + \"/*WaveformMean.npy\")\n",
    "    st_files = glob.glob(path + \"/*WaveformStats.npy\")\n",
    "    for wv, st in zip(wv_files, st_files):\n",
    "        pt_time, pt_ratio, opto_resp = np.load(st)\n",
    "        waveform = np.load(wv)\n",
    "        peak_idx = np.where(waveform == 1)[0][0]\n",
    "        if (pt_ratio > 0) & (peak_idx > 42) & (np.std(waveform[:20]) < 0.01):\n",
    "            waveforms.append(waveform)\n",
    "            pt_times.append(pt_time)\n",
    "            pt_ratios.append(pt_ratio)\n",
    "            opto_resps.append(opto_resp)\n",
    "\n",
    "X = np.vstack((pt_times, pt_ratios)).T\n",
    "kmn = KMeans(n_clusters=2, n_init=20)\n",
    "kmn.fit(X)\n",
    "X_pred = kmn.predict(X)\n",
    "fig, ax = plt.subplots()\n",
    "colors = ((0.6, 0.2, 0.6, 0.7), (0.3, 0.7, 0.2, 0.7))\n",
    "for row, clust in zip(X, X_pred):\n",
    "    ax.scatter(row[0], row[1], color=colors[clust], edgecolors=\"face\", alpha=0.7, linewidths=0, s=100)\n",
    "ax.set_xlabel(\"Peak-to-Trough Time (ms)\")\n",
    "ax.set_xlim((0.1, 0.9))\n",
    "ax.set_xticks(np.linspace(0.2, 0.8, 7))\n",
    "ax.set_ylabel(\"Peak-to-Trough Ratio\")\n",
    "ax.set_ylim((0.1, 0.9))\n",
    "ax.set_yticks(np.linspace(0.2, 0.8, 7))\n",
    "fig.set_size_inches(5, 5)\n",
    "plt.show(block=False)\n",
    "fig.savefig(\"G:/Shared drives/Neuropixels/Figures/Grant/Figure 1/WaveformStats.svg\", bbox_inches=\"tight\")\n",
    "\n",
    "waveforms = np.array(waveforms)\n",
    "mpl_use(\"Qt5Agg\")\n",
    "fig, ax = plt.subplots()\n",
    "colors = ((0.6, 0.2, 0.6, 0.08), (0.3, 0.7, 0.2, 0.08))\n",
    "wv_tf = []\n",
    "for wv, clust in zip(waveforms, X_pred):\n",
    "    wv = (wv - wv[0]) / 2\n",
    "    wv_tf.append(wv)\n",
    "    ax.plot(range(82), wv, color=colors[clust], linewidth=2)\n",
    "ax.plot(range(82), np.array(wv_tf)[X_pred == 0].mean(axis=0), color=(0.6, 0.2, 0.6, 0.7), linewidth=2)\n",
    "ax.plot(range(82), np.array(wv_tf)[X_pred == 1].mean(axis=0), color=(0.3, 0.7, 0.2, 0.7), linewidth=2)\n",
    "ax.set_xlim((0, 81))\n",
    "ax.set_xticks(np.linspace(10, 71, 5))\n",
    "ax.set_xticklabels(np.linspace(-1, 1, 5))\n",
    "ax.set_xlabel(\"Time from Spike (ms)\")\n",
    "ax.set_ylim((-0.9, 0.5))\n",
    "ax.set_yticks(np.linspace(-0.8, 0.4, 7))\n",
    "ax.set_ylabel(\"Amplitude (Normalized)\")\n",
    "fig.set_size_inches(5, 5)\n",
    "plt.show(block=False)\n",
    "fig.savefig(\"G:/Shared drives/Neuropixels/Figures/Grant/Figure 1/WaveformMeans.svg\", bbox_inches=\"tight\")"
   ]
  },
  {
   "cell_type": "code",
   "execution_count": 84,
   "metadata": {},
   "outputs": [
    {
     "data": {
      "text/plain": [
       "1.0"
      ]
     },
     "execution_count": 84,
     "metadata": {},
     "output_type": "execute_result"
    }
   ],
   "source": [
    "(71-41) / 30"
   ]
  }
 ],
 "metadata": {
  "kernelspec": {
   "display_name": "electroviz",
   "language": "python",
   "name": "python3"
  },
  "language_info": {
   "codemirror_mode": {
    "name": "ipython",
    "version": 3
   },
   "file_extension": ".py",
   "mimetype": "text/x-python",
   "name": "python",
   "nbconvert_exporter": "python",
   "pygments_lexer": "ipython3",
   "version": "3.11.0"
  },
  "orig_nbformat": 4,
  "vscode": {
   "interpreter": {
    "hash": "1fb4b2cfc8d15aec02b8cc7121941021c270b8e341355eddc34cc64ffaa6e9cb"
   }
  }
 },
 "nbformat": 4,
 "nbformat_minor": 2
}
