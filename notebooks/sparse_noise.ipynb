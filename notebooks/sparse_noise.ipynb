{
 "cells": [
  {
   "attachments": {},
   "cell_type": "markdown",
   "metadata": {},
   "source": [
    "Load Experiment & Sort Units by Depth"
   ]
  },
  {
   "cell_type": "code",
   "execution_count": null,
   "metadata": {},
   "outputs": [],
   "source": [
    "from electroviz.core.experiment import Experiment\n",
    "\n",
    "exp = Experiment(\"C:/Users/TLab/Downloads/20221208_205629/\")\n",
    "# exp = Experiment(\"/Users/ryan.gorzek/Downloads/20221208_205629/\")\n",
    "\n",
    "stim = exp.stimuli[0]\n",
    "pop_0 = exp.populations[0].remove(pop_0.units[\"total_spikes\"] < 100)\n",
    "pop_0_sort = pop_0.sort(\"depth\", order=\"descend\")\n",
    "pop_1 = exp.populations[1].remove(pop_1.units[\"total_spikes\"] < 100)\n",
    "pop_1_sort = pop_1.sort(\"depth\", order=\"descend\")"
   ]
  },
  {
   "attachments": {},
   "cell_type": "markdown",
   "metadata": {},
   "source": [
    "Plot Sparse Noise Kernels for LGN Probe (0)"
   ]
  },
  {
   "cell_type": "code",
   "execution_count": null,
   "metadata": {},
   "outputs": [],
   "source": [
    "from electroviz.core.kernel import SparseNoiseKernel\n",
    "for unit_idx, unit in enumerate(pop_0_sort):\n",
    "    kern = SparseNoiseKernel(unit, stim)\n",
    "    response = kern.get_response()\n",
    "    pop_0_sort.add_metric(unit_idx, \"sparse_noise\", response)\n",
    "for unit in pop_0_sort.sort(\"sparse_noise\", order=\"descend\")[:20]:\n",
    "    kern = SparseNoiseKernel(unit, stim)\n",
    "    kern.plot_PETH()\n",
    "    kern.plot_raw()"
   ]
  },
  {
   "attachments": {},
   "cell_type": "markdown",
   "metadata": {},
   "source": [
    "Plot Sparse Noise Kernels for V1b Probe (1)"
   ]
  },
  {
   "cell_type": "code",
   "execution_count": null,
   "metadata": {},
   "outputs": [],
   "source": [
    "from electroviz.core.kernel import SparseNoiseKernel\n",
    "for unit_idx, unit in enumerate(pop_1_sort):\n",
    "    kern = SparseNoiseKernel(unit, stim)\n",
    "    response = kern.get_response()\n",
    "    pop_1_sort.add_metric(unit_idx, \"sparse_noise\", response)\n",
    "for unit in pop_1_sort.sort(\"sparse_noise\", order=\"descend\")[:20]:\n",
    "    kern = SparseNoiseKernel(unit, stim)\n",
    "    kern.plot_PETH()\n",
    "    kern.plot_raw()"
   ]
  }
 ],
 "metadata": {
  "language_info": {
   "name": "python"
  },
  "orig_nbformat": 4
 },
 "nbformat": 4,
 "nbformat_minor": 2
}
