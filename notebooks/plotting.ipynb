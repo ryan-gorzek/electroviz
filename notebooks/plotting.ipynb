{
 "cells": [
  {
   "attachments": {},
   "cell_type": "markdown",
   "metadata": {},
   "source": [
    "Load Data"
   ]
  },
  {
   "cell_type": "code",
   "execution_count": null,
   "metadata": {},
   "outputs": [],
   "source": [
    "import numpy as np\n",
    "from electroviz.core.experiment import Experiment\n",
    "\n",
    "exp = Experiment(\"E:/RG001/\")\n",
    "\n",
    "stimuli = exp.stimuli\n",
    "pop0 = exp.populations[0]\n",
    "pop0 = pop0.remove(pop0.units[\"total_spikes\"] < 100)\n",
    "pop0_sort = pop0.sort(\"depth\")\n",
    "pop1 = exp.populations[1]\n",
    "pop1 = pop1.remove(pop1.units[\"total_spikes\"] < 100)\n",
    "pop1_sort = pop1.sort(\"depth\")\n",
    "pop2 = exp.populations[2]\n",
    "pop2 = pop2.remove(pop2.units[\"total_spikes\"] < 100)\n",
    "pop2_sort = pop2.sort(\"depth\")"
   ]
  },
  {
   "attachments": {},
   "cell_type": "markdown",
   "metadata": {},
   "source": [
    "Population PSTH"
   ]
  },
  {
   "cell_type": "code",
   "execution_count": 3,
   "metadata": {},
   "outputs": [],
   "source": [
    "pop0_sort.plot_PSTH(stimuli[0], time_window=(-500, 500), bin_size=10)\n",
    "pop1_sort.plot_PSTH(stimuli[0], time_window=(-500, 500), bin_size=10)\n",
    "pop2_sort.plot_PSTH(stimuli[0], time_window=(-500, 500), bin_size=10)"
   ]
  },
  {
   "attachments": {},
   "cell_type": "markdown",
   "metadata": {},
   "source": [
    "Population Raster"
   ]
  },
  {
   "cell_type": "code",
   "execution_count": 4,
   "metadata": {},
   "outputs": [],
   "source": [
    "pop0_sort.plot_raster(stimuli[4])\n",
    "pop1_sort.plot_raster(stimuli[4])\n",
    "pop2_sort.plot_raster(stimuli[4])"
   ]
  },
  {
   "attachments": {},
   "cell_type": "markdown",
   "metadata": {},
   "source": [
    "Unit Summaries"
   ]
  },
  {
   "cell_type": "code",
   "execution_count": null,
   "metadata": {},
   "outputs": [],
   "source": [
    "from electroviz.core.kernel import SparseNoiseKernel\n",
    "from electroviz.core.kernel import StaticGratingsKernel\n",
    "from electroviz.viz.summary import UnitSummary\n",
    "import matplotlib.pyplot as plt\n",
    "\n",
    "population = pop0_sort\n",
    "stims = [stimuli[2], stimuli[1], stimuli[4], stimuli[0]]\n",
    "ctx_range = (0, 325)\n",
    "lgn_range = (590, 725)\n",
    "\n",
    "for ctx_idx, ctx_unit in enumerate(population[slice()]):\n",
    "\n",
    "    kernels = [SparseNoiseKernel(ctx_unit, stims[0]), \n",
    "               SparseNoiseKernel(ctx_unit, stims[1]), \n",
    "               StaticGratingsKernel(ctx_unit, stims[2]), \n",
    "               StaticGratingsKernel(ctx_unit, stims[3])]\n",
    "\n",
    "    file_path = \"G:/Shared drives/Neuropixels/Figures/RG001/UnitSummary/CTX/\"\n",
    "    file_name = \"Probe1_Unit{0}\".format(str(ctx_idx))\n",
    "\n",
    "    UnitSummary(ctx_unit, stims, kernels, save_path=file_path+file_name)\n",
    "\n",
    "    plt.close(\"all\")\n",
    "\n",
    "for lgn_idx, lgn_unit in enumerate(population[590:725]):\n",
    "\n",
    "    kernels = [SparseNoiseKernel(lgn_unit, stims[0]), \n",
    "               SparseNoiseKernel(lgn_unit, stims[1]), \n",
    "               StaticGratingsKernel(lgn_unit, stims[2]), \n",
    "               StaticGratingsKernel(lgn_unit, stims[3])]\n",
    "\n",
    "    file_path = \"G:/Shared drives/Neuropixels/Figures/RG001/UnitSummary/LGN/\"\n",
    "    file_name = \"Probe1_Unit{0}\".format(str(lgn_idx + 590))\n",
    "\n",
    "    UnitSummary(lgn_unit, stims, kernels, save_path=file_path+file_name)\n",
    "\n",
    "    plt.close(\"all\")"
   ]
  }
 ],
 "metadata": {
  "kernelspec": {
   "display_name": "electroviz",
   "language": "python",
   "name": "python3"
  },
  "language_info": {
   "codemirror_mode": {
    "name": "ipython",
    "version": 3
   },
   "file_extension": ".py",
   "mimetype": "text/x-python",
   "name": "python",
   "nbconvert_exporter": "python",
   "pygments_lexer": "ipython3",
   "version": "3.11.0"
  },
  "orig_nbformat": 4,
  "vscode": {
   "interpreter": {
    "hash": "1fb4b2cfc8d15aec02b8cc7121941021c270b8e341355eddc34cc64ffaa6e9cb"
   }
  }
 },
 "nbformat": 4,
 "nbformat_minor": 2
}
