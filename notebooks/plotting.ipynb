{
 "cells": [
  {
   "attachments": {},
   "cell_type": "markdown",
   "metadata": {},
   "source": [
    "Load Data"
   ]
  },
  {
   "cell_type": "code",
   "execution_count": 1,
   "metadata": {},
   "outputs": [],
   "source": [
    "import numpy as np\n",
    "from electroviz.core.experiment import Experiment\n",
    "\n",
    "exp = Experiment(\"E:/RG001/\")\n",
    "\n",
    "stimuli = exp.stimuli\n",
    "pop0 = exp.populations[0]\n",
    "pop0 = pop0.remove(pop0.units[\"spike_rate\"] < 1)\n",
    "pop0_sort = pop0.sort(\"depth\")\n",
    "# pop1 = exp.populations[1]\n",
    "# pop1 = pop1.remove(pop1.units[\"spike_rate\"] < 1)\n",
    "# pop1_sort = pop1.sort(\"depth\")\n",
    "# pop2 = exp.populations[2]\n",
    "# pop2 = pop2.remove(pop2.units[\"spike_rate\"] < 1)\n",
    "# pop2_sort = pop2.sort(\"depth\")"
   ]
  },
  {
   "attachments": {},
   "cell_type": "markdown",
   "metadata": {},
   "source": [
    "Population PSTH"
   ]
  },
  {
   "cell_type": "code",
   "execution_count": 3,
   "metadata": {},
   "outputs": [],
   "source": [
    "pop0_sort.plot_PSTH(stimuli[0], time_window=(-500, 500), bin_size=10)\n",
    "# pop1_sort.plot_PSTH(stimuli[0], time_window=(-500, 500), bin_size=10)\n",
    "# pop2_sort.plot_PSTH(stimuli[0], time_window=(-500, 500), bin_size=10)"
   ]
  },
  {
   "attachments": {},
   "cell_type": "markdown",
   "metadata": {},
   "source": [
    "Population Raster"
   ]
  },
  {
   "cell_type": "code",
   "execution_count": 2,
   "metadata": {},
   "outputs": [],
   "source": [
    "pop0_sort.plot_raster(stimuli[4])\n",
    "# pop1_sort.plot_raster(stimuli[4])\n",
    "# pop2_sort.plot_raster(stimuli[4])"
   ]
  },
  {
   "attachments": {},
   "cell_type": "markdown",
   "metadata": {},
   "source": [
    "Unit PSTH"
   ]
  },
  {
   "cell_type": "code",
   "execution_count": 12,
   "metadata": {},
   "outputs": [],
   "source": [
    "unit = pop0_sort[25]\n",
    "stim = stimuli[4]\n",
    "unit.plot_PSTH(stim)"
   ]
  },
  {
   "attachments": {},
   "cell_type": "markdown",
   "metadata": {},
   "source": [
    "Unit Raster"
   ]
  },
  {
   "cell_type": "code",
   "execution_count": 6,
   "metadata": {},
   "outputs": [],
   "source": [
    "unit.plot_raster(stim, zscore=False)"
   ]
  },
  {
   "attachments": {},
   "cell_type": "markdown",
   "metadata": {},
   "source": [
    "Sparse Noise Kernel at Optimal Delay"
   ]
  },
  {
   "cell_type": "code",
   "execution_count": 41,
   "metadata": {},
   "outputs": [],
   "source": [
    "from electroviz.core.kernel import SparseNoiseKernel\n",
    "kern = SparseNoiseKernel(unit, stim)\n",
    "kern.plot_raw()"
   ]
  },
  {
   "attachments": {},
   "cell_type": "markdown",
   "metadata": {},
   "source": [
    "Sparse Noise Kernels at Various Delays"
   ]
  },
  {
   "cell_type": "code",
   "execution_count": 25,
   "metadata": {},
   "outputs": [],
   "source": [
    "from electroviz.core.kernel import SparseNoiseKernel\n",
    "kern = SparseNoiseKernel(unit, stim)\n",
    "kern.plot_raw_delay()"
   ]
  },
  {
   "attachments": {},
   "cell_type": "markdown",
   "metadata": {},
   "source": [
    "Sparse Noise Kernel Norms at Various Delays"
   ]
  },
  {
   "cell_type": "code",
   "execution_count": 9,
   "metadata": {},
   "outputs": [],
   "source": [
    "from electroviz.core.kernel import SparseNoiseKernel\n",
    "kern = SparseNoiseKernel(unit, stim)\n",
    "kern.plot_norm_delay()"
   ]
  },
  {
   "attachments": {},
   "cell_type": "markdown",
   "metadata": {},
   "source": [
    "Static Gratings Kernel at Optimal Delay"
   ]
  },
  {
   "cell_type": "code",
   "execution_count": 28,
   "metadata": {},
   "outputs": [],
   "source": [
    "from electroviz.core.kernel import StaticGratingsKernel\n",
    "kern = StaticGratingsKernel(unit, stimuli[4])\n",
    "kern.plot_raw()"
   ]
  },
  {
   "attachments": {},
   "cell_type": "markdown",
   "metadata": {},
   "source": [
    "Static Gratings Kernels at Various Delays"
   ]
  },
  {
   "cell_type": "code",
   "execution_count": 29,
   "metadata": {},
   "outputs": [],
   "source": [
    "from electroviz.core.kernel import StaticGratingsKernel\n",
    "kern = StaticGratingsKernel(unit, stimuli[4])\n",
    "kern.plot_raw_delay()"
   ]
  },
  {
   "attachments": {},
   "cell_type": "markdown",
   "metadata": {},
   "source": [
    "Static Gratings Kernel Norms at Various Delays"
   ]
  },
  {
   "cell_type": "code",
   "execution_count": 13,
   "metadata": {},
   "outputs": [],
   "source": [
    "from electroviz.core.kernel import StaticGratingsKernel\n",
    "kern = StaticGratingsKernel(unit, stimuli[4])\n",
    "kern.plot_norm_delay()"
   ]
  },
  {
   "attachments": {},
   "cell_type": "markdown",
   "metadata": {},
   "source": [
    "Unit Summary"
   ]
  },
  {
   "cell_type": "code",
   "execution_count": null,
   "metadata": {},
   "outputs": [],
   "source": [
    "from itertools import chain\n",
    "from electroviz.core.kernel import SparseNoiseKernel\n",
    "from electroviz.core.kernel import StaticGratingsKernel\n",
    "\n",
    "all_stim = list(chain(*stimuli))\n",
    "pop0_sort.plot_raster(all_stim)\n",
    "\n",
    "unit = pop0_sort[35]\n",
    "stims = [stimuli[2], stimuli[1], stimuli[4], stimuli[0]]\n",
    "kernels = [SparseNoiseKernel(unit, stims[0]), \n",
    "           SparseNoiseKernel(unit, stims[1]), \n",
    "           StaticGratingsKernel(unit, stims[2]), \n",
    "           StaticGratingsKernel(unit, stims[3])]\n",
    "unit.plot_summary(stims, kernels)"
   ]
  }
 ],
 "metadata": {
  "kernelspec": {
   "display_name": "electroviz",
   "language": "python",
   "name": "python3"
  },
  "language_info": {
   "codemirror_mode": {
    "name": "ipython",
    "version": 3
   },
   "file_extension": ".py",
   "mimetype": "text/x-python",
   "name": "python",
   "nbconvert_exporter": "python",
   "pygments_lexer": "ipython3",
   "version": "3.11.0"
  },
  "orig_nbformat": 4,
  "vscode": {
   "interpreter": {
    "hash": "1fb4b2cfc8d15aec02b8cc7121941021c270b8e341355eddc34cc64ffaa6e9cb"
   }
  }
 },
 "nbformat": 4,
 "nbformat_minor": 2
}
