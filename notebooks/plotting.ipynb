{
 "cells": [
  {
   "attachments": {},
   "cell_type": "markdown",
   "metadata": {},
   "source": [
    "Load Data"
   ]
  },
  {
   "cell_type": "code",
   "execution_count": null,
   "metadata": {},
   "outputs": [],
   "source": [
    "import numpy as np\n",
    "from electroviz.core.experiment import Experiment\n",
    "\n",
    "# exp = Experiment(\"E:/RG008/\")\n",
    "# exp = Experiment(\"E:/20221208_205629/\")\n",
    "exp = Experiment(\"E:/20221205_155624/\")\n",
    "# exp = Experiment(\"/Users/ryan.gorzek/Downloads/20221208_205629/\")\n",
    "\n",
    "stimuli = exp.stimuli\n",
    "pop0 = exp.populations[0]\n",
    "pop0 = pop0.remove(pop0.units[\"total_spikes\"] < 100)\n",
    "pop0_sort = pop0.sort(\"depth\", order=\"descend\")\n",
    "pop1 = exp.populations[1]\n",
    "pop1 = pop1.remove(pop1.units[\"total_spikes\"] < 100)\n",
    "pop1_sort = pop1.sort(\"depth\", order=\"descend\")"
   ]
  },
  {
   "attachments": {},
   "cell_type": "markdown",
   "metadata": {},
   "source": [
    "Population PSTH"
   ]
  },
  {
   "cell_type": "code",
   "execution_count": 2,
   "metadata": {},
   "outputs": [],
   "source": [
    "pop0_sort.plot_PSTH(stimuli[0], time_window=(-500, 500), bin_size=10)\n",
    "pop1_sort.plot_PSTH(stimuli[0], time_window=(-500, 500), bin_size=10)"
   ]
  },
  {
   "attachments": {},
   "cell_type": "markdown",
   "metadata": {},
   "source": [
    "Population Raster"
   ]
  },
  {
   "cell_type": "code",
   "execution_count": 2,
   "metadata": {},
   "outputs": [],
   "source": [
    "pop0_sort.plot_raster(stimuli[0])\n",
    "pop1_sort.plot_raster(stimuli[0])"
   ]
  },
  {
   "attachments": {},
   "cell_type": "markdown",
   "metadata": {},
   "source": [
    "Unit PSTH"
   ]
  },
  {
   "cell_type": "code",
   "execution_count": 5,
   "metadata": {},
   "outputs": [],
   "source": [
    "unit = pop0_sort[40]\n",
    "stim = stimuli[0]\n",
    "unit.plot_PSTH(stim, time_window=(-500, 500), bin_size=10)"
   ]
  },
  {
   "attachments": {},
   "cell_type": "markdown",
   "metadata": {},
   "source": [
    "Unit Raster"
   ]
  },
  {
   "cell_type": "code",
   "execution_count": 4,
   "metadata": {},
   "outputs": [],
   "source": [
    "unit.plot_raster(stim, zscore=False)"
   ]
  },
  {
   "attachments": {},
   "cell_type": "markdown",
   "metadata": {},
   "source": [
    "Sparse Noise Kernel at Optimal Delay"
   ]
  },
  {
   "cell_type": "code",
   "execution_count": null,
   "metadata": {},
   "outputs": [],
   "source": [
    "from electroviz.core.kernel import SparseNoiseKernel\n",
    "kern = SparseNoiseKernel(unit, stim)\n",
    "kern.plot_raw()"
   ]
  },
  {
   "attachments": {},
   "cell_type": "markdown",
   "metadata": {},
   "source": [
    "Sparse Noise Kernels at Various Delays"
   ]
  },
  {
   "cell_type": "code",
   "execution_count": 23,
   "metadata": {},
   "outputs": [],
   "source": [
    "from electroviz.core.kernel import SparseNoiseKernel\n",
    "kern = SparseNoiseKernel(unit, stim)\n",
    "kern.plot_raw_delay()"
   ]
  },
  {
   "attachments": {},
   "cell_type": "markdown",
   "metadata": {},
   "source": [
    "Sparse Noise Kernel Norms at Various Delays"
   ]
  },
  {
   "cell_type": "code",
   "execution_count": 13,
   "metadata": {},
   "outputs": [],
   "source": [
    "from electroviz.core.kernel import SparseNoiseKernel\n",
    "kern = SparseNoiseKernel(unit, stim)\n",
    "kern.plot_norm_delay()"
   ]
  },
  {
   "attachments": {},
   "cell_type": "markdown",
   "metadata": {},
   "source": [
    "Static Gratings Kernel at Optimal Delay"
   ]
  },
  {
   "cell_type": "code",
   "execution_count": null,
   "metadata": {},
   "outputs": [],
   "source": [
    "from electroviz.core.kernel import StaticGratingsKernel\n",
    "for unit in pop0_sort[30:60]:\n",
    "    kern = StaticGratingsKernel(unit, stimuli[0])\n",
    "    kern.plot_raw()"
   ]
  },
  {
   "attachments": {},
   "cell_type": "markdown",
   "metadata": {},
   "source": [
    "Static Gratings Kernels at Various Delays"
   ]
  },
  {
   "cell_type": "code",
   "execution_count": 9,
   "metadata": {},
   "outputs": [],
   "source": [
    "from electroviz.core.kernel import StaticGratingsKernel\n",
    "kern = StaticGratingsKernel(unit, stimuli[0])\n",
    "kern.plot_raw_delay()"
   ]
  },
  {
   "attachments": {},
   "cell_type": "markdown",
   "metadata": {},
   "source": [
    "Static Gratings Kernel Norms at Various Delays"
   ]
  },
  {
   "cell_type": "code",
   "execution_count": 18,
   "metadata": {},
   "outputs": [],
   "source": [
    "from electroviz.core.kernel import StaticGratingsKernel\n",
    "kern = StaticGratingsKernel(unit, stimuli[2])\n",
    "kern.plot_norm_delay()"
   ]
  }
 ],
 "metadata": {
  "kernelspec": {
   "display_name": "electroviz",
   "language": "python",
   "name": "python3"
  },
  "language_info": {
   "codemirror_mode": {
    "name": "ipython",
    "version": 3
   },
   "file_extension": ".py",
   "mimetype": "text/x-python",
   "name": "python",
   "nbconvert_exporter": "python",
   "pygments_lexer": "ipython3",
   "version": "3.11.0 | packaged by conda-forge | (main, Oct 25 2022, 06:12:32) [MSC v.1929 64 bit (AMD64)]"
  },
  "orig_nbformat": 4,
  "vscode": {
   "interpreter": {
    "hash": "1fb4b2cfc8d15aec02b8cc7121941021c270b8e341355eddc34cc64ffaa6e9cb"
   }
  }
 },
 "nbformat": 4,
 "nbformat_minor": 2
}
