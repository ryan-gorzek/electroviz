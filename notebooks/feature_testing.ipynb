{
 "cells": [
  {
   "cell_type": "code",
   "execution_count": 1,
   "id": "91e57b17-3288-4391-aa46-a686aa8c3952",
   "metadata": {},
   "outputs": [
    {
     "name": "stdout",
     "output_type": "stream",
     "text": [
      "10291.0 (array([10]), array([0]))\n"
     ]
    }
   ],
   "source": [
    "from electroviz.core.experiment import Experiment\n",
    "\n",
    "exp = Experiment(\"/Users/ryan.gorzek/Downloads/20221208_204803/\")"
   ]
  },
  {
   "cell_type": "code",
   "execution_count": null,
   "id": "c478a691",
   "metadata": {},
   "outputs": [],
   "source": [
    "dir(exp.population[0])"
   ]
  }
 ],
 "metadata": {
  "kernelspec": {
   "display_name": "electroviz",
   "language": "python",
   "name": "python3"
  },
  "language_info": {
   "codemirror_mode": {
    "name": "ipython",
    "version": 3
   },
   "file_extension": ".py",
   "mimetype": "text/x-python",
   "name": "python",
   "nbconvert_exporter": "python",
   "pygments_lexer": "ipython3",
   "version": "3.10.6"
  },
  "vscode": {
   "interpreter": {
    "hash": "919cc63325a5b63abc424611aa5956c143ddc5160d557e18e04e8bd60c16f5cf"
   }
  }
 },
 "nbformat": 4,
 "nbformat_minor": 5
}
