{
 "cells": [
  {
   "cell_type": "code",
   "execution_count": 1,
   "id": "91e57b17-3288-4391-aa46-a686aa8c3952",
   "metadata": {},
   "outputs": [],
   "source": [
    "import numpy as np\n",
    "from electroviz.core.experiment import Experiment\n",
    "\n",
    "exp = Experiment(\"C:/Users/TLab/Downloads/20221208_205629/\")\n",
    "# exp = Experiment(\"/Users/ryan.gorzek/Downloads/20221208_205629/\")\n",
    "\n",
    "stim = exp.stimuli[0]\n",
    "pop_0 = exp.populations[0]\n",
    "pop_0 = pop_0.remove(pop_0.units[\"total_spikes\"] < 100)\n",
    "pop_0_sort = pop_0.sort(\"depth\", order=\"descend\")\n",
    "pop_1 = exp.populations[1]\n",
    "pop_1 = pop_1.remove(pop_1.units[\"total_spikes\"] < 100)\n",
    "pop_1_sort = pop_1.sort(\"depth\", order=\"descend\")"
   ]
  },
  {
   "cell_type": "code",
   "execution_count": 3,
   "id": "294f49d5",
   "metadata": {},
   "outputs": [],
   "source": [
    "# pop_0_sort.plot_aligned_response(stim, save_path=\"G:/Shared drives/Neuropixels/Data/RG008/_figures/probe0_aligned_static_gratings.png\")\n",
    "pop_1_sort.plot_aligned_response(stim, save_path=\"G:/Shared drives/Neuropixels/Data/RG008/_figures/probe1_aligned_static_gratings.png\")"
   ]
  },
  {
   "cell_type": "code",
   "execution_count": null,
   "id": "e377bfbb",
   "metadata": {},
   "outputs": [],
   "source": [
    "from electroviz.core.kernel import StaticGratingsKernel\n",
    "for unit in pop_1_sort[:100]:\n",
    "    kern = StaticGratingsKernel(unit, stim)\n",
    "    response = kern.get_response()\n",
    "    pop_1_sort.add_metric(unit.ID, \"sparse_noise\", response)\n",
    "    unit.add_kernel(kern)\n",
    "for unit in pop_1_sort[:100]:\n",
    "    unit.kernels[0].plot_raw()"
   ]
  }
 ],
 "metadata": {
  "kernelspec": {
   "display_name": "electroviz",
   "language": "python",
   "name": "python3"
  },
  "language_info": {
   "codemirror_mode": {
    "name": "ipython",
    "version": 3
   },
   "file_extension": ".py",
   "mimetype": "text/x-python",
   "name": "python",
   "nbconvert_exporter": "python",
   "pygments_lexer": "ipython3",
   "version": "3.11.0 | packaged by conda-forge | (main, Oct 25 2022, 06:12:32) [MSC v.1929 64 bit (AMD64)]"
  },
  "vscode": {
   "interpreter": {
    "hash": "1fb4b2cfc8d15aec02b8cc7121941021c270b8e341355eddc34cc64ffaa6e9cb"
   }
  }
 },
 "nbformat": 4,
 "nbformat_minor": 5
}
