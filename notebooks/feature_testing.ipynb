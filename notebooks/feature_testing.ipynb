{
 "cells": [
  {
   "cell_type": "code",
   "execution_count": 1,
   "id": "91e57b17-3288-4391-aa46-a686aa8c3952",
   "metadata": {},
   "outputs": [],
   "source": [
    "import numpy as np\n",
    "from electroviz.core.experiment import Experiment\n",
    "\n",
    "# exp = Experiment(\"C:/Users/TLab/Downloads/20221208_205629/\")\n",
    "exp = Experiment(\"/Users/ryan.gorzek/Downloads/20221208_205629/\")\n",
    "\n",
    "stim = exp.stimuli[0]\n",
    "pop_0 = exp.populations[0]\n",
    "pop_0 = pop_0.remove(pop_0.units[\"total_spikes\"] < 100)\n",
    "pop_0_sort = pop_0.sort(\"depth\", order=\"descend\")\n",
    "# pop_1 = exp.populations[1]\n",
    "# pop_1 = pop_1.remove(pop_1.units[\"total_spikes\"] < 100)\n",
    "# pop_1_sort = pop_1.sort(\"depth\", order=\"descend\")"
   ]
  },
  {
   "cell_type": "code",
   "execution_count": 4,
   "id": "9bf70b68",
   "metadata": {},
   "outputs": [],
   "source": [
    "pop_0_sort.plot_aligned_response(stim)"
   ]
  },
  {
   "cell_type": "code",
   "execution_count": 2,
   "id": "7ba9d96c",
   "metadata": {},
   "outputs": [],
   "source": [
    "from electroviz.core.kernel import SparseNoiseKernel\n",
    "\n",
    "kern = SparseNoiseKernel(pop_0[20], stim)"
   ]
  },
  {
   "cell_type": "code",
   "execution_count": 7,
   "id": "d5f82661",
   "metadata": {},
   "outputs": [
    {
     "data": {
      "text/plain": [
       "numpy.float64"
      ]
     },
     "execution_count": 7,
     "metadata": {},
     "output_type": "execute_result"
    }
   ],
   "source": []
  }
 ],
 "metadata": {
  "kernelspec": {
   "display_name": "electroviz",
   "language": "python",
   "name": "python3"
  },
  "language_info": {
   "codemirror_mode": {
    "name": "ipython",
    "version": 3
   },
   "file_extension": ".py",
   "mimetype": "text/x-python",
   "name": "python",
   "nbconvert_exporter": "python",
   "pygments_lexer": "ipython3",
   "version": "3.11.0"
  },
  "vscode": {
   "interpreter": {
    "hash": "919cc63325a5b63abc424611aa5956c143ddc5160d557e18e04e8bd60c16f5cf"
   }
  }
 },
 "nbformat": 4,
 "nbformat_minor": 5
}
