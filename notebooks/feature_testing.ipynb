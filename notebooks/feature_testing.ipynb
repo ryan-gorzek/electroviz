{
 "cells": [
  {
   "cell_type": "code",
   "execution_count": 1,
   "id": "91e57b17-3288-4391-aa46-a686aa8c3952",
   "metadata": {},
   "outputs": [],
   "source": [
    "import numpy as np\n",
    "from electroviz.core.experiment import Experiment\n",
    "exp = Experiment(\"C:/Users/TLab/Downloads/20221208_205629/\")\n",
    "# exp = Experiment(\"/Users/ryan.gorzek/Downloads/20221208_204803/\")"
   ]
  },
  {
   "cell_type": "code",
   "execution_count": 2,
   "id": "4336ddef",
   "metadata": {},
   "outputs": [
    {
     "data": {
      "text/plain": [
       "(250, 900, 1400)"
      ]
     },
     "execution_count": 2,
     "metadata": {},
     "output_type": "execute_result"
    }
   ],
   "source": [
    "stim = exp.stimuli[0]\n",
    "pop = exp.population\n",
    "\n",
    "resp = pop.get_aligned_response(stim)\n",
    "resp.shape"
   ]
  },
  {
   "cell_type": "code",
   "execution_count": null,
   "id": "49cf2d92",
   "metadata": {},
   "outputs": [],
   "source": [
    "baseline = np.mean(resp[30:50, :, :], axis=(0, 2)).squeeze()\n",
    "response = np.mean(resp[100:120, :, :], axis=(0, 2)).squeeze()\n",
    "vals = response/baseline\n",
    "sort_idx = np.argsort(response/baseline)[::-1]\n",
    "nan_or_inf = (np.isnan(vals[sort_idx])) | (np.isinf(vals[sort_idx]))\n",
    "sort_idx = sort_idx[nan_or_inf == False]"
   ]
  },
  {
   "cell_type": "code",
   "execution_count": 56,
   "id": "78291545",
   "metadata": {},
   "outputs": [],
   "source": [
    "from electroviz.viz.kernels import plot_sparse_noise_response\n",
    "\n",
    "unit = pop[sort_idx[2]]\n",
    "\n",
    "unit.plot_aligned_response(stim)\n",
    "plot_sparse_noise_response(unit, stim)"
   ]
  }
 ],
 "metadata": {
  "kernelspec": {
   "display_name": "electroviz",
   "language": "python",
   "name": "python3"
  },
  "language_info": {
   "codemirror_mode": {
    "name": "ipython",
    "version": 3
   },
   "file_extension": ".py",
   "mimetype": "text/x-python",
   "name": "python",
   "nbconvert_exporter": "python",
   "pygments_lexer": "ipython3",
   "version": "3.10.8"
  },
  "vscode": {
   "interpreter": {
    "hash": "1fb4b2cfc8d15aec02b8cc7121941021c270b8e341355eddc34cc64ffaa6e9cb"
   }
  }
 },
 "nbformat": 4,
 "nbformat_minor": 5
}
