{
 "cells": [
  {
   "cell_type": "code",
   "execution_count": 1,
   "id": "91e57b17-3288-4391-aa46-a686aa8c3952",
   "metadata": {},
   "outputs": [
    {
     "name": "stderr",
     "output_type": "stream",
     "text": [
      "/Users/ryan.gorzek/opt/anaconda3/envs/electroviz/lib/python3.10/site-packages/numpy/core/fromnumeric.py:3432: RuntimeWarning: Mean of empty slice.\n",
      "  return _methods._mean(a, axis=axis, dtype=dtype,\n",
      "/Users/ryan.gorzek/opt/anaconda3/envs/electroviz/lib/python3.10/site-packages/numpy/core/_methods.py:190: RuntimeWarning: invalid value encountered in double_scalars\n",
      "  ret = ret.dtype.type(ret / rcount)\n"
     ]
    }
   ],
   "source": [
    "from electroviz.nidaq import NIDAQ\n",
    "from electroviz.btss import bTsS\n",
    "from electroviz.stimulus import Stimulus\n",
    "import matplotlib.pyplot as plt\n",
    "\n",
    "nidaq_path = \"/Users/ryan.gorzek/Downloads\"\n",
    "nidq = NIDAQ(nidaq_path)\n",
    "\n",
    "btss_path = \"/Users/ryan.gorzek/Downloads/20221214_223030\"\n",
    "btsstim = bTsS(btss_path)\n",
    "\n",
    "# stim = Stimulus(nidq, btsstim)"
   ]
  },
  {
   "cell_type": "code",
   "execution_count": 4,
   "id": "ef36e281",
   "metadata": {},
   "outputs": [
    {
     "data": {
      "text/plain": [
       "array([0., 0., 0., ..., 0., 0., 0.])"
      ]
     },
     "execution_count": 4,
     "metadata": {},
     "output_type": "execute_result"
    }
   ],
   "source": [
    "nidq.digital_signals[\"camera\"][\"digital_value\"]"
   ]
  }
 ],
 "metadata": {
  "kernelspec": {
   "display_name": "electroviz",
   "language": "python",
   "name": "python3"
  },
  "language_info": {
   "codemirror_mode": {
    "name": "ipython",
    "version": 3
   },
   "file_extension": ".py",
   "mimetype": "text/x-python",
   "name": "python",
   "nbconvert_exporter": "python",
   "pygments_lexer": "ipython3",
   "version": "3.10.6"
  },
  "vscode": {
   "interpreter": {
    "hash": "919cc63325a5b63abc424611aa5956c143ddc5160d557e18e04e8bd60c16f5cf"
   }
  }
 },
 "nbformat": 4,
 "nbformat_minor": 5
}
