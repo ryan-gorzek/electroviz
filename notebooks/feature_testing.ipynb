{
 "cells": [
  {
   "cell_type": "code",
   "execution_count": 1,
   "id": "91e57b17-3288-4391-aa46-a686aa8c3952",
   "metadata": {},
   "outputs": [],
   "source": [
    "import numpy as np\n",
    "from electroviz.core.experiment import Experiment\n",
    "\n",
    "exp = Experiment(\"C:/Users/TLab/Downloads/20221208_205629/\")\n",
    "# exp = Experiment(\"/Users/ryan.gorzek/Downloads/20221208_205629/\")\n",
    "\n",
    "stim = exp.stimuli[0]\n",
    "pop_0 = exp.populations[0]\n",
    "pop_0 = pop_0.remove(pop_0.units[\"total_spikes\"] < 100)\n",
    "pop_0_sort = pop_0.sort(\"depth\", order=\"descend\")\n",
    "pop_1 = exp.populations[1]\n",
    "pop_1 = pop_1.remove(pop_1.units[\"total_spikes\"] < 100)\n",
    "pop_1_sort = pop_1.sort(\"depth\", order=\"descend\")"
   ]
  },
  {
   "cell_type": "code",
   "execution_count": 2,
   "id": "7ba9d96c",
   "metadata": {},
   "outputs": [],
   "source": [
    "from electroviz.core.kernel import SparseNoiseKernel\n",
    "for unit_idx, unit in enumerate(pop_0_sort):\n",
    "    kern = SparseNoiseKernel(unit, stim)\n",
    "    response = kern.get_response()\n",
    "    pop_0_sort.add_metric(unit_idx, \"sparse_noise\", response)\n",
    "for unit in pop_0_sort.sort(\"sparse_noise\", order=\"descend\")[:20]:\n",
    "    kern = SparseNoiseKernel(unit, stim)\n",
    "    kern.plot_PETH()\n",
    "    kern.plot_raw()"
   ]
  },
  {
   "cell_type": "code",
   "execution_count": null,
   "id": "16ddfb47",
   "metadata": {},
   "outputs": [],
   "source": [
    "from electroviz.core.kernel import SparseNoiseKernel\n",
    "for unit_idx, unit in enumerate(pop_1_sort):\n",
    "    kern = SparseNoiseKernel(unit, stim)\n",
    "    response = kern.get_response()\n",
    "    pop_1_sort.add_metric(unit_idx, \"sparse_noise\", response)\n",
    "for unit in pop_1_sort.sort(\"sparse_noise\", order=\"descend\")[:20]:\n",
    "    kern = SparseNoiseKernel(unit, stim)\n",
    "    kern.plot_PETH()\n",
    "    kern.plot_raw()"
   ]
  },
  {
   "cell_type": "code",
   "execution_count": 3,
   "id": "cb2abc9c",
   "metadata": {},
   "outputs": [],
   "source": [
    "pop_1.plot_rate_histogram()"
   ]
  },
  {
   "cell_type": "code",
   "execution_count": null,
   "id": "d5f82661",
   "metadata": {},
   "outputs": [],
   "source": [
    "from electroviz.core.kernel import StaticGratingsKernel\n",
    "for unit in range(40, 50):\n",
    "    kern = StaticGratingsKernel(pop_0_sort[unit], stim, resp_window=[0.030, 0.050])\n",
    "    kern.plot_raw()"
   ]
  }
 ],
 "metadata": {
  "kernelspec": {
   "display_name": "electroviz",
   "language": "python",
   "name": "python3"
  },
  "language_info": {
   "codemirror_mode": {
    "name": "ipython",
    "version": 3
   },
   "file_extension": ".py",
   "mimetype": "text/x-python",
   "name": "python",
   "nbconvert_exporter": "python",
   "pygments_lexer": "ipython3",
   "version": "3.11.0"
  },
  "vscode": {
   "interpreter": {
    "hash": "1fb4b2cfc8d15aec02b8cc7121941021c270b8e341355eddc34cc64ffaa6e9cb"
   }
  }
 },
 "nbformat": 4,
 "nbformat_minor": 5
}
