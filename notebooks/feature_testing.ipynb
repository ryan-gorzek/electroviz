{
 "cells": [
  {
   "cell_type": "code",
   "execution_count": 2,
   "id": "91e57b17-3288-4391-aa46-a686aa8c3952",
   "metadata": {},
   "outputs": [
    {
     "ename": "ModuleNotFoundError",
     "evalue": "No module named 'matplotlib.pylot'",
     "output_type": "error",
     "traceback": [
      "\u001b[1;31m---------------------------------------------------------------------------\u001b[0m",
      "\u001b[1;31mModuleNotFoundError\u001b[0m                       Traceback (most recent call last)",
      "Cell \u001b[1;32mIn[2], line 2\u001b[0m\n\u001b[0;32m      1\u001b[0m \u001b[39mfrom\u001b[39;00m \u001b[39melectroviz\u001b[39;00m\u001b[39m.\u001b[39;00m\u001b[39mnidaq\u001b[39;00m \u001b[39mimport\u001b[39;00m NIDAQ\n\u001b[1;32m----> 2\u001b[0m \u001b[39mimport\u001b[39;00m \u001b[39mmatplotlib\u001b[39;00m\u001b[39m.\u001b[39;00m\u001b[39mpylot\u001b[39;00m \u001b[39mas\u001b[39;00m \u001b[39mplt\u001b[39;00m\n\u001b[0;32m      4\u001b[0m nidaq_path \u001b[39m=\u001b[39m \u001b[39m\"\u001b[39m\u001b[39m/Users/ryan.gorzek/Downloads\u001b[39m\u001b[39m\"\u001b[39m\n\u001b[0;32m      5\u001b[0m nidq \u001b[39m=\u001b[39m NIDAQ(nidaq_path)\n",
      "\u001b[1;31mModuleNotFoundError\u001b[0m: No module named 'matplotlib.pylot'"
     ]
    }
   ],
   "source": [
    "from electroviz.nidaq import NIDAQ\n",
    "import matplotlib.pylot as plt\n",
    "\n",
    "nidaq_path = \"/Users/ryan.gorzek/Downloads\"\n",
    "nidq = NIDAQ(nidaq_path)"
   ]
  },
  {
   "cell_type": "code",
   "execution_count": 6,
   "id": "05ee5e04",
   "metadata": {},
   "outputs": [
    {
     "data": {
      "text/plain": [
       "dict_keys(['acqMnMaXaDw', 'appVersion', 'fileCreateTime', 'fileName', 'fileSHA1', 'fileSizeBytes', 'fileTimeSecs', 'firstSample', 'gateMode', 'nDataDirs', 'nSavedChans', 'niAiRangeMax', 'niAiRangeMin', 'niAiTermination', 'niClockLine1', 'niClockSource', 'niDev1', 'niDev1ProductName', 'niMAChans1', 'niMAGain', 'niMNChans1', 'niMNGain', 'niMaxInt', 'niMuxFactor', 'niSampRate', 'niStartEnable', 'niStartLine', 'niXAChans1', 'niXDBytes1', 'niXDChans1', 'snsMnMaXaDw', 'snsSaveChanSubset', 'syncNiChan', 'syncNiChanType', 'syncNiThresh', 'syncSourceIdx', 'syncSourcePeriod', 'trigMode', 'typeImEnabled', 'typeNiEnabled', 'typeObEnabled', 'typeThis', 'userNotes', 'snsChanMap', 'snsShankMap'])"
      ]
     },
     "execution_count": 6,
     "metadata": {},
     "output_type": "execute_result"
    }
   ],
   "source": [
    "nidq.meta_dict.keys()"
   ]
  },
  {
   "cell_type": "code",
   "execution_count": 2,
   "id": "fc097d6f-9872-41b1-ad18-2fc557f8e4c9",
   "metadata": {},
   "outputs": [],
   "source": [
    "regions, signal = nidq.check_sampling_rate()"
   ]
  },
  {
   "cell_type": "code",
   "execution_count": null,
   "id": "d15d6e5a",
   "metadata": {},
   "outputs": [
    {
     "data": {
      "text/plain": [
       "1"
      ]
     },
     "execution_count": 7,
     "metadata": {},
     "output_type": "execute_result"
    }
   ],
   "source": [
    "from skimage.morphology import regionprops\n",
    "test = regionprops([0,0,1,1,1,0,0])\n",
    "test"
   ]
  }
 ],
 "metadata": {
  "kernelspec": {
   "display_name": "electroviz",
   "language": "python",
   "name": "python3"
  },
  "language_info": {
   "codemirror_mode": {
    "name": "ipython",
    "version": 3
   },
   "file_extension": ".py",
   "mimetype": "text/x-python",
   "name": "python",
   "nbconvert_exporter": "python",
   "pygments_lexer": "ipython3",
   "version": "3.10.8"
  },
  "vscode": {
   "interpreter": {
    "hash": "1fb4b2cfc8d15aec02b8cc7121941021c270b8e341355eddc34cc64ffaa6e9cb"
   }
  }
 },
 "nbformat": 4,
 "nbformat_minor": 5
}
