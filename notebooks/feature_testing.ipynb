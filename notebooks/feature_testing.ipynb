{
 "cells": [
  {
   "cell_type": "code",
   "execution_count": 1,
   "id": "91e57b17-3288-4391-aa46-a686aa8c3952",
   "metadata": {},
   "outputs": [],
   "source": [
    "from electroviz.nidaq import NIDAQ\n",
    "import matplotlib.pylot as plt\n",
    "\n",
    "nidaq_path = \"/Users/ryan.gorzek/Downloads\"\n",
    "nidq = NIDAQ(nidaq_path)"
   ]
  },
  {
   "cell_type": "code",
   "execution_count": 6,
   "id": "05ee5e04",
   "metadata": {},
   "outputs": [
    {
     "data": {
      "text/plain": [
       "dict_keys(['acqMnMaXaDw', 'appVersion', 'fileCreateTime', 'fileName', 'fileSHA1', 'fileSizeBytes', 'fileTimeSecs', 'firstSample', 'gateMode', 'nDataDirs', 'nSavedChans', 'niAiRangeMax', 'niAiRangeMin', 'niAiTermination', 'niClockLine1', 'niClockSource', 'niDev1', 'niDev1ProductName', 'niMAChans1', 'niMAGain', 'niMNChans1', 'niMNGain', 'niMaxInt', 'niMuxFactor', 'niSampRate', 'niStartEnable', 'niStartLine', 'niXAChans1', 'niXDBytes1', 'niXDChans1', 'snsMnMaXaDw', 'snsSaveChanSubset', 'syncNiChan', 'syncNiChanType', 'syncNiThresh', 'syncSourceIdx', 'syncSourcePeriod', 'trigMode', 'typeImEnabled', 'typeNiEnabled', 'typeObEnabled', 'typeThis', 'userNotes', 'snsChanMap', 'snsShankMap'])"
      ]
     },
     "execution_count": 6,
     "metadata": {},
     "output_type": "execute_result"
    }
   ],
   "source": [
    "nidq.meta_dict.keys()"
   ]
  },
  {
   "cell_type": "code",
   "execution_count": 2,
   "id": "fc097d6f-9872-41b1-ad18-2fc557f8e4c9",
   "metadata": {},
   "outputs": [],
   "source": [
    "regions, signal = nidq.check_sampling_rate()"
   ]
  },
  {
   "cell_type": "code",
   "execution_count": 7,
   "id": "d15d6e5a",
   "metadata": {},
   "outputs": [
    {
     "data": {
      "text/plain": [
       "1"
      ]
     },
     "execution_count": 7,
     "metadata": {},
     "output_type": "execute_result"
    }
   ],
   "source": [
    "len(regions)"
   ]
  }
 ],
 "metadata": {
  "kernelspec": {
   "display_name": "electroviz",
   "language": "python",
   "name": "python3"
  },
  "language_info": {
   "codemirror_mode": {
    "name": "ipython",
    "version": 3
   },
   "file_extension": ".py",
   "mimetype": "text/x-python",
   "name": "python",
   "nbconvert_exporter": "python",
   "pygments_lexer": "ipython3",
   "version": "3.10.6"
  },
  "vscode": {
   "interpreter": {
    "hash": "919cc63325a5b63abc424611aa5956c143ddc5160d557e18e04e8bd60c16f5cf"
   }
  }
 },
 "nbformat": 4,
 "nbformat_minor": 5
}
