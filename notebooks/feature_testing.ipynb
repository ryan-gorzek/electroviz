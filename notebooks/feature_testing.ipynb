{
 "cells": [
  {
   "cell_type": "code",
   "execution_count": 2,
   "id": "91e57b17-3288-4391-aa46-a686aa8c3952",
   "metadata": {},
   "outputs": [],
   "source": [
    "from electroviz.core.experiment import Experiment\n",
    "exp = Experiment(\"C:/Users/TLab/Downloads/20221208_205629/\")\n",
    "# exp = Experiment(\"/Users/ryan.gorzek/Downloads/20221208_204803/\")"
   ]
  },
  {
   "cell_type": "code",
   "execution_count": 17,
   "id": "4336ddef",
   "metadata": {},
   "outputs": [],
   "source": [
    "stim = exp.stimuli[0]\n",
    "unit = exp.population[327]\n",
    "unit.plot_averaged_response(stim)"
   ]
  },
  {
   "cell_type": "code",
   "execution_count": 9,
   "id": "c478a691",
   "metadata": {},
   "outputs": [],
   "source": [
    "from electroviz.viz.kernels import plot_sparse_noise_response\n",
    "\n",
    "unit = exp.population[705]\n",
    "stim = exp.stimuli[0]\n",
    "\n",
    "plot_sparse_noise_response(unit, stim)"
   ]
  },
  {
   "cell_type": "code",
   "execution_count": 3,
   "id": "f263ba78",
   "metadata": {},
   "outputs": [],
   "source": [
    "from electroviz.viz.kernels import plot_population_response\n",
    "pop = exp.population\n",
    "stim = exp.stimuli[0]\n",
    "\n",
    "plot_population_response(pop, stim, bin_size=0.001)"
   ]
  },
  {
   "cell_type": "code",
   "execution_count": null,
   "id": "605b84c6",
   "metadata": {},
   "outputs": [],
   "source": [
    "# Unit peak channel location\n",
    "# Slice Population\n",
    "# Sort Population based on Unit attributes (peak response, peak channel, etc.)"
   ]
  },
  {
   "cell_type": "code",
   "execution_count": 3,
   "id": "b7d868c0",
   "metadata": {},
   "outputs": [
    {
     "data": {
      "text/plain": [
       "900"
      ]
     },
     "execution_count": 3,
     "metadata": {},
     "output_type": "execute_result"
    }
   ],
   "source": [
    "len(pop)"
   ]
  }
 ],
 "metadata": {
  "kernelspec": {
   "display_name": "electroviz",
   "language": "python",
   "name": "python3"
  },
  "language_info": {
   "codemirror_mode": {
    "name": "ipython",
    "version": 3
   },
   "file_extension": ".py",
   "mimetype": "text/x-python",
   "name": "python",
   "nbconvert_exporter": "python",
   "pygments_lexer": "ipython3",
   "version": "3.10.8"
  },
  "vscode": {
   "interpreter": {
    "hash": "1fb4b2cfc8d15aec02b8cc7121941021c270b8e341355eddc34cc64ffaa6e9cb"
   }
  }
 },
 "nbformat": 4,
 "nbformat_minor": 5
}
