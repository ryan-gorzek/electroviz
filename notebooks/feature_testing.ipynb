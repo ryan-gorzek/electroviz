{
 "cells": [
  {
   "cell_type": "code",
   "execution_count": 1,
   "id": "91e57b17-3288-4391-aa46-a686aa8c3952",
   "metadata": {},
   "outputs": [
    {
     "name": "stderr",
     "output_type": "stream",
     "text": [
      "/Users/ryan.gorzek/Documents/GitHub/electroviz/electroviz/nidaq.py:159: FutureWarning: elementwise comparison failed; returning scalar instead, but in the future will perform elementwise comparison\n",
      "  if (blank == True) | (signal == \"camera\"):\n",
      "/Users/ryan.gorzek/Documents/GitHub/electroviz/electroviz/nidaq.py:162: FutureWarning: elementwise comparison failed; returning scalar instead, but in the future will perform elementwise comparison\n",
      "  elif (blank == False) | (signal == \"sync\"):\n",
      "/Users/ryan.gorzek/Documents/GitHub/electroviz/electroviz/nidaq.py:175: FutureWarning: elementwise comparison failed; returning scalar instead, but in the future will perform elementwise comparison\n",
      "  if signal == \"sync\":\n"
     ]
    }
   ],
   "source": [
    "from electroviz.nidaq import NIDAQ\n",
    "import matplotlib.pyplot as plt\n",
    "\n",
    "nidaq_path = \"/Users/ryan.gorzek/Downloads\"\n",
    "nidq = NIDAQ(nidaq_path)"
   ]
  },
  {
   "cell_type": "code",
   "execution_count": 7,
   "id": "05ee5e04",
   "metadata": {},
   "outputs": [
    {
     "data": {
      "text/plain": [
       "(1399, 1399)"
      ]
     },
     "execution_count": 7,
     "metadata": {},
     "output_type": "execute_result"
    }
   ],
   "source": [
    "sig = \"photodiode\"\n",
    "(nidq.digital_signals[sig][\"onsets\"].size, nidq.digital_signals[sig][\"offsets\"].size)"
   ]
  },
  {
   "cell_type": "code",
   "execution_count": 2,
   "id": "fc097d6f-9872-41b1-ad18-2fc557f8e4c9",
   "metadata": {},
   "outputs": [],
   "source": [
    "regions, signal = nidq.check_sampling_rate()"
   ]
  },
  {
   "cell_type": "code",
   "execution_count": 10,
   "id": "d15d6e5a",
   "metadata": {},
   "outputs": [
    {
     "data": {
      "text/plain": [
       "array([2, 3])"
      ]
     },
     "execution_count": 10,
     "metadata": {},
     "output_type": "execute_result"
    }
   ],
   "source": [
    "test = np.array([1,2,3])\n",
    "test[1:]"
   ]
  }
 ],
 "metadata": {
  "kernelspec": {
   "display_name": "electroviz",
   "language": "python",
   "name": "python3"
  },
  "language_info": {
   "codemirror_mode": {
    "name": "ipython",
    "version": 3
   },
   "file_extension": ".py",
   "mimetype": "text/x-python",
   "name": "python",
   "nbconvert_exporter": "python",
   "pygments_lexer": "ipython3",
   "version": "3.10.6"
  },
  "vscode": {
   "interpreter": {
    "hash": "919cc63325a5b63abc424611aa5956c143ddc5160d557e18e04e8bd60c16f5cf"
   }
  }
 },
 "nbformat": 4,
 "nbformat_minor": 5
}
