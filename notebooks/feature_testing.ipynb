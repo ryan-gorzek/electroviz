{
 "cells": [
  {
   "cell_type": "code",
   "execution_count": 1,
   "id": "91e57b17-3288-4391-aa46-a686aa8c3952",
   "metadata": {},
   "outputs": [
    {
     "name": "stdout",
     "output_type": "stream",
     "text": [
      "719 719\n",
      "1400 1400\n",
      "1400 1400\n",
      "Here\n",
      "0 1\n"
     ]
    },
    {
     "ename": "ValueError",
     "evalue": "All arrays must be of the same length",
     "output_type": "error",
     "traceback": [
      "\u001b[1;31m---------------------------------------------------------------------------\u001b[0m",
      "\u001b[1;31mValueError\u001b[0m                                Traceback (most recent call last)",
      "Cell \u001b[1;32mIn[1], line 3\u001b[0m\n\u001b[0;32m      1\u001b[0m \u001b[39mfrom\u001b[39;00m \u001b[39melectroviz\u001b[39;00m\u001b[39m.\u001b[39;00m\u001b[39mcore\u001b[39;00m\u001b[39m.\u001b[39;00m\u001b[39mexperiment\u001b[39;00m \u001b[39mimport\u001b[39;00m Experiment\n\u001b[1;32m----> 3\u001b[0m exp \u001b[39m=\u001b[39m Experiment(\u001b[39m\"\u001b[39;49m\u001b[39mC:/Users/TLab/Downloads/20221208_204803/\u001b[39;49m\u001b[39m\"\u001b[39;49m)\n",
      "File \u001b[1;32mC:\\Ryan\\GitHub\\electroviz\\electroviz\\core\\experiment.py:36\u001b[0m, in \u001b[0;36mExperiment.__init__\u001b[1;34m(self, experiment_path, SGLX_name, bTsS_names)\u001b[0m\n\u001b[0;32m     34\u001b[0m nidaq \u001b[39m=\u001b[39m NIDAQ(nidaq_dir)\n\u001b[0;32m     35\u001b[0m \u001b[39mprint\u001b[39m(\u001b[39m\"\u001b[39m\u001b[39mHere\u001b[39m\u001b[39m\"\u001b[39m)\n\u001b[1;32m---> 36\u001b[0m imec \u001b[39m=\u001b[39m Imec(imec_dir)\n\u001b[0;32m     37\u001b[0m total_imec_samples \u001b[39m=\u001b[39m imec[\u001b[39m0\u001b[39m]\u001b[39m.\u001b[39mtotal_samples\n\u001b[0;32m     38\u001b[0m kilosort \u001b[39m=\u001b[39m Kilosort(imec_dir, total_imec_samples)\n",
      "File \u001b[1;32mC:\\Ryan\\GitHub\\electroviz\\electroviz\\streams\\imec.py:38\u001b[0m, in \u001b[0;36mImec.__new__\u001b[1;34m(self, imec_path)\u001b[0m\n\u001b[0;32m     32\u001b[0m sync_line \u001b[39m=\u001b[39m Imec\u001b[39m.\u001b[39mdigital_lines[\u001b[39m\"\u001b[39m\u001b[39msync\u001b[39m\u001b[39m\"\u001b[39m]\n\u001b[0;32m     33\u001b[0m sync_signal \u001b[39m=\u001b[39m extractDigital(binary, \n\u001b[0;32m     34\u001b[0m                              \u001b[39m0\u001b[39m, num_samples\u001b[39m-\u001b[39m\u001b[39m1\u001b[39m, \n\u001b[0;32m     35\u001b[0m                              \u001b[39m0\u001b[39m, \n\u001b[0;32m     36\u001b[0m                              [sync_line], \n\u001b[0;32m     37\u001b[0m                              metadata)\n\u001b[1;32m---> 38\u001b[0m imec\u001b[39m.\u001b[39mappend(SyncChannel(sync_signal, sampling_rate))\n\u001b[0;32m     39\u001b[0m \u001b[39mreturn\u001b[39;00m imec\n",
      "File \u001b[1;32mC:\\Ryan\\GitHub\\electroviz\\electroviz\\streams\\digitalchannel.py:302\u001b[0m, in \u001b[0;36mSyncChannel.__init__\u001b[1;34m(self, signal, sampling_rate)\u001b[0m\n\u001b[0;32m    293\u001b[0m \u001b[39mdef\u001b[39;00m \u001b[39m__init__\u001b[39m(\n\u001b[0;32m    294\u001b[0m         \u001b[39mself\u001b[39m, \n\u001b[0;32m    295\u001b[0m         signal, \n\u001b[0;32m    296\u001b[0m         sampling_rate, \n\u001b[0;32m    297\u001b[0m     ):\n\u001b[0;32m    298\u001b[0m     \u001b[39m\"\"\"\u001b[39;00m\n\u001b[0;32m    299\u001b[0m \n\u001b[0;32m    300\u001b[0m \u001b[39m    \"\"\"\u001b[39;00m\n\u001b[1;32m--> 302\u001b[0m     \u001b[39msuper\u001b[39;49m()\u001b[39m.\u001b[39;49m\u001b[39m__init__\u001b[39;49m(signal, \n\u001b[0;32m    303\u001b[0m                      sampling_rate)\n",
      "File \u001b[1;32mC:\\Ryan\\GitHub\\electroviz\\electroviz\\streams\\digitalchannel.py:34\u001b[0m, in \u001b[0;36mDigitalChannel.__init__\u001b[1;34m(self, signal, sampling_rate)\u001b[0m\n\u001b[0;32m     32\u001b[0m \u001b[39mself\u001b[39m\u001b[39m.\u001b[39mtotal_samples \u001b[39m=\u001b[39m \u001b[39mlen\u001b[39m(\u001b[39mself\u001b[39m\u001b[39m.\u001b[39msignal)\n\u001b[0;32m     33\u001b[0m \u001b[39mself\u001b[39m\u001b[39m.\u001b[39mtotal_time \u001b[39m=\u001b[39m \u001b[39mself\u001b[39m\u001b[39m.\u001b[39mtotal_samples \u001b[39m/\u001b[39m \u001b[39mself\u001b[39m\u001b[39m.\u001b[39msampling_rate\n\u001b[1;32m---> 34\u001b[0m \u001b[39mself\u001b[39;49m\u001b[39m.\u001b[39;49m_build_events_df()\n\u001b[0;32m     35\u001b[0m \u001b[39mself\u001b[39m\u001b[39m.\u001b[39m_get_events()\n",
      "File \u001b[1;32mC:\\Ryan\\GitHub\\electroviz\\electroviz\\streams\\digitalchannel.py:136\u001b[0m, in \u001b[0;36mDigitalChannel._build_events_df\u001b[1;34m(self)\u001b[0m\n\u001b[0;32m    126\u001b[0m events_dict \u001b[39m=\u001b[39m {\n\u001b[0;32m    127\u001b[0m     \u001b[39m\"\u001b[39m\u001b[39msample_onset\u001b[39m\u001b[39m\"\u001b[39m :    sample_onsets,   \u001b[39m# (# of samples to onset from sample 0, the start of recording)\u001b[39;00m\n\u001b[0;32m    128\u001b[0m     \u001b[39m\"\u001b[39m\u001b[39msample_offset\u001b[39m\u001b[39m\"\u001b[39m :   sample_offsets,  \u001b[39m# (# of samples to onset from sample 0, the start of recording)\u001b[39;00m\n\u001b[1;32m   (...)\u001b[0m\n\u001b[0;32m    133\u001b[0m     \u001b[39m\"\u001b[39m\u001b[39mdigital_value\u001b[39m\u001b[39m\"\u001b[39m :   value_array,     \u001b[39m# (0 or 1, should alternate when there is no blank)\u001b[39;00m\n\u001b[0;32m    134\u001b[0m                 }\n\u001b[0;32m    135\u001b[0m \u001b[39m# Create dataframe.\u001b[39;00m\n\u001b[1;32m--> 136\u001b[0m \u001b[39mself\u001b[39m\u001b[39m.\u001b[39mevents \u001b[39m=\u001b[39m pd\u001b[39m.\u001b[39;49mDataFrame\u001b[39m.\u001b[39;49mfrom_dict(events_dict, orient\u001b[39m=\u001b[39;49m\u001b[39m\"\u001b[39;49m\u001b[39mcolumns\u001b[39;49m\u001b[39m\"\u001b[39;49m)\n\u001b[0;32m    137\u001b[0m \u001b[39mreturn\u001b[39;00m \u001b[39mNone\u001b[39;00m\n",
      "File \u001b[1;32mc:\\Users\\TLab\\anaconda3\\envs\\electroviz\\lib\\site-packages\\pandas\\core\\frame.py:1763\u001b[0m, in \u001b[0;36mDataFrame.from_dict\u001b[1;34m(cls, data, orient, dtype, columns)\u001b[0m\n\u001b[0;32m   1757\u001b[0m     \u001b[39mraise\u001b[39;00m \u001b[39mValueError\u001b[39;00m(\n\u001b[0;32m   1758\u001b[0m         \u001b[39mf\u001b[39m\u001b[39m\"\u001b[39m\u001b[39mExpected \u001b[39m\u001b[39m'\u001b[39m\u001b[39mindex\u001b[39m\u001b[39m'\u001b[39m\u001b[39m, \u001b[39m\u001b[39m'\u001b[39m\u001b[39mcolumns\u001b[39m\u001b[39m'\u001b[39m\u001b[39m or \u001b[39m\u001b[39m'\u001b[39m\u001b[39mtight\u001b[39m\u001b[39m'\u001b[39m\u001b[39m for orient parameter. \u001b[39m\u001b[39m\"\u001b[39m\n\u001b[0;32m   1759\u001b[0m         \u001b[39mf\u001b[39m\u001b[39m\"\u001b[39m\u001b[39mGot \u001b[39m\u001b[39m'\u001b[39m\u001b[39m{\u001b[39;00morient\u001b[39m}\u001b[39;00m\u001b[39m'\u001b[39m\u001b[39m instead\u001b[39m\u001b[39m\"\u001b[39m\n\u001b[0;32m   1760\u001b[0m     )\n\u001b[0;32m   1762\u001b[0m \u001b[39mif\u001b[39;00m orient \u001b[39m!=\u001b[39m \u001b[39m\"\u001b[39m\u001b[39mtight\u001b[39m\u001b[39m\"\u001b[39m:\n\u001b[1;32m-> 1763\u001b[0m     \u001b[39mreturn\u001b[39;00m \u001b[39mcls\u001b[39;49m(data, index\u001b[39m=\u001b[39;49mindex, columns\u001b[39m=\u001b[39;49mcolumns, dtype\u001b[39m=\u001b[39;49mdtype)\n\u001b[0;32m   1764\u001b[0m \u001b[39melse\u001b[39;00m:\n\u001b[0;32m   1765\u001b[0m     realdata \u001b[39m=\u001b[39m data[\u001b[39m\"\u001b[39m\u001b[39mdata\u001b[39m\u001b[39m\"\u001b[39m]\n",
      "File \u001b[1;32mc:\\Users\\TLab\\anaconda3\\envs\\electroviz\\lib\\site-packages\\pandas\\core\\frame.py:663\u001b[0m, in \u001b[0;36mDataFrame.__init__\u001b[1;34m(self, data, index, columns, dtype, copy)\u001b[0m\n\u001b[0;32m    657\u001b[0m     mgr \u001b[39m=\u001b[39m \u001b[39mself\u001b[39m\u001b[39m.\u001b[39m_init_mgr(\n\u001b[0;32m    658\u001b[0m         data, axes\u001b[39m=\u001b[39m{\u001b[39m\"\u001b[39m\u001b[39mindex\u001b[39m\u001b[39m\"\u001b[39m: index, \u001b[39m\"\u001b[39m\u001b[39mcolumns\u001b[39m\u001b[39m\"\u001b[39m: columns}, dtype\u001b[39m=\u001b[39mdtype, copy\u001b[39m=\u001b[39mcopy\n\u001b[0;32m    659\u001b[0m     )\n\u001b[0;32m    661\u001b[0m \u001b[39melif\u001b[39;00m \u001b[39misinstance\u001b[39m(data, \u001b[39mdict\u001b[39m):\n\u001b[0;32m    662\u001b[0m     \u001b[39m# GH#38939 de facto copy defaults to False only in non-dict cases\u001b[39;00m\n\u001b[1;32m--> 663\u001b[0m     mgr \u001b[39m=\u001b[39m dict_to_mgr(data, index, columns, dtype\u001b[39m=\u001b[39;49mdtype, copy\u001b[39m=\u001b[39;49mcopy, typ\u001b[39m=\u001b[39;49mmanager)\n\u001b[0;32m    664\u001b[0m \u001b[39melif\u001b[39;00m \u001b[39misinstance\u001b[39m(data, ma\u001b[39m.\u001b[39mMaskedArray):\n\u001b[0;32m    665\u001b[0m     \u001b[39mimport\u001b[39;00m \u001b[39mnumpy\u001b[39;00m\u001b[39m.\u001b[39;00m\u001b[39mma\u001b[39;00m\u001b[39m.\u001b[39;00m\u001b[39mmrecords\u001b[39;00m \u001b[39mas\u001b[39;00m \u001b[39mmrecords\u001b[39;00m\n",
      "File \u001b[1;32mc:\\Users\\TLab\\anaconda3\\envs\\electroviz\\lib\\site-packages\\pandas\\core\\internals\\construction.py:493\u001b[0m, in \u001b[0;36mdict_to_mgr\u001b[1;34m(data, index, columns, dtype, typ, copy)\u001b[0m\n\u001b[0;32m    489\u001b[0m     \u001b[39melse\u001b[39;00m:\n\u001b[0;32m    490\u001b[0m         \u001b[39m# dtype check to exclude e.g. range objects, scalars\u001b[39;00m\n\u001b[0;32m    491\u001b[0m         arrays \u001b[39m=\u001b[39m [x\u001b[39m.\u001b[39mcopy() \u001b[39mif\u001b[39;00m \u001b[39mhasattr\u001b[39m(x, \u001b[39m\"\u001b[39m\u001b[39mdtype\u001b[39m\u001b[39m\"\u001b[39m) \u001b[39melse\u001b[39;00m x \u001b[39mfor\u001b[39;00m x \u001b[39min\u001b[39;00m arrays]\n\u001b[1;32m--> 493\u001b[0m \u001b[39mreturn\u001b[39;00m arrays_to_mgr(arrays, columns, index, dtype\u001b[39m=\u001b[39;49mdtype, typ\u001b[39m=\u001b[39;49mtyp, consolidate\u001b[39m=\u001b[39;49mcopy)\n",
      "File \u001b[1;32mc:\\Users\\TLab\\anaconda3\\envs\\electroviz\\lib\\site-packages\\pandas\\core\\internals\\construction.py:118\u001b[0m, in \u001b[0;36marrays_to_mgr\u001b[1;34m(arrays, columns, index, dtype, verify_integrity, typ, consolidate)\u001b[0m\n\u001b[0;32m    115\u001b[0m \u001b[39mif\u001b[39;00m verify_integrity:\n\u001b[0;32m    116\u001b[0m     \u001b[39m# figure out the index, if necessary\u001b[39;00m\n\u001b[0;32m    117\u001b[0m     \u001b[39mif\u001b[39;00m index \u001b[39mis\u001b[39;00m \u001b[39mNone\u001b[39;00m:\n\u001b[1;32m--> 118\u001b[0m         index \u001b[39m=\u001b[39m _extract_index(arrays)\n\u001b[0;32m    119\u001b[0m     \u001b[39melse\u001b[39;00m:\n\u001b[0;32m    120\u001b[0m         index \u001b[39m=\u001b[39m ensure_index(index)\n",
      "File \u001b[1;32mc:\\Users\\TLab\\anaconda3\\envs\\electroviz\\lib\\site-packages\\pandas\\core\\internals\\construction.py:666\u001b[0m, in \u001b[0;36m_extract_index\u001b[1;34m(data)\u001b[0m\n\u001b[0;32m    664\u001b[0m lengths \u001b[39m=\u001b[39m \u001b[39mlist\u001b[39m(\u001b[39mset\u001b[39m(raw_lengths))\n\u001b[0;32m    665\u001b[0m \u001b[39mif\u001b[39;00m \u001b[39mlen\u001b[39m(lengths) \u001b[39m>\u001b[39m \u001b[39m1\u001b[39m:\n\u001b[1;32m--> 666\u001b[0m     \u001b[39mraise\u001b[39;00m \u001b[39mValueError\u001b[39;00m(\u001b[39m\"\u001b[39m\u001b[39mAll arrays must be of the same length\u001b[39m\u001b[39m\"\u001b[39m)\n\u001b[0;32m    668\u001b[0m \u001b[39mif\u001b[39;00m have_dicts:\n\u001b[0;32m    669\u001b[0m     \u001b[39mraise\u001b[39;00m \u001b[39mValueError\u001b[39;00m(\n\u001b[0;32m    670\u001b[0m         \u001b[39m\"\u001b[39m\u001b[39mMixing dicts with non-Series may lead to ambiguous ordering.\u001b[39m\u001b[39m\"\u001b[39m\n\u001b[0;32m    671\u001b[0m     )\n",
      "\u001b[1;31mValueError\u001b[0m: All arrays must be of the same length"
     ]
    }
   ],
   "source": [
    "from electroviz.core.experiment import Experiment\n",
    "\n",
    "exp = Experiment(\"C:/Users/TLab/Downloads/20221208_204803/\")"
   ]
  },
  {
   "cell_type": "code",
   "execution_count": 10,
   "id": "c478a691",
   "metadata": {},
   "outputs": [],
   "source": [
    "from electroviz.viz.kernels import plot_sparse_noise_response\n",
    "\n",
    "unit = exp.population[10]\n",
    "stim = exp.stimuli[0]\n",
    "\n",
    "plot_sparse_noise_response(unit, stim)"
   ]
  },
  {
   "cell_type": "code",
   "execution_count": 26,
   "id": "f263ba78",
   "metadata": {},
   "outputs": [
    {
     "name": "stdout",
     "output_type": "stream",
     "text": [
      "[ 4  8 12 16] [ 7 11 15 19]\n"
     ]
    }
   ],
   "source": [
    "import numpy as np\n",
    "signal = np.array([0,0,0,0,1,1,1,1,0,0,0,0,1,1,1,1,0,0,0,0])\n",
    "signal_diff = np.insert(np.diff(signal), 0, 0)\n",
    "(sample_onsets_all,) = np.nonzero(signal_diff != 0)\n",
    "sample_onsets = sample_onsets_all\n",
    "sample_offsets = sample_onsets_all[1:] - 1\n",
    "print(sample_onsets, np.append(sample_offsets, [signal.size-1], axis=0))"
   ]
  },
  {
   "cell_type": "code",
   "execution_count": 25,
   "id": "605b84c6",
   "metadata": {},
   "outputs": [
    {
     "data": {
      "text/plain": [
       "(3,)"
      ]
     },
     "execution_count": 25,
     "metadata": {},
     "output_type": "execute_result"
    }
   ],
   "source": []
  }
 ],
 "metadata": {
  "kernelspec": {
   "display_name": "electroviz",
   "language": "python",
   "name": "python3"
  },
  "language_info": {
   "codemirror_mode": {
    "name": "ipython",
    "version": 3
   },
   "file_extension": ".py",
   "mimetype": "text/x-python",
   "name": "python",
   "nbconvert_exporter": "python",
   "pygments_lexer": "ipython3",
   "version": "3.10.8"
  },
  "vscode": {
   "interpreter": {
    "hash": "1fb4b2cfc8d15aec02b8cc7121941021c270b8e341355eddc34cc64ffaa6e9cb"
   }
  }
 },
 "nbformat": 4,
 "nbformat_minor": 5
}
