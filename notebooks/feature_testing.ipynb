{
 "cells": [
  {
   "cell_type": "code",
   "execution_count": 1,
   "id": "91e57b17-3288-4391-aa46-a686aa8c3952",
   "metadata": {},
   "outputs": [],
   "source": [
    "from electroviz.io.reader import Reader\n",
    "exp = Reader(\"E:/RG007/20221207_202140/\")\n"
   ]
  }
 ],
 "metadata": {
  "kernelspec": {
   "display_name": "electroviz",
   "language": "python",
   "name": "python3"
  },
  "language_info": {
   "codemirror_mode": {
    "name": "ipython",
    "version": 3
   },
   "file_extension": ".py",
   "mimetype": "text/x-python",
   "name": "python",
   "nbconvert_exporter": "python",
   "pygments_lexer": "ipython3",
   "version": "3.10.8"
  },
  "vscode": {
   "interpreter": {
    "hash": "1fb4b2cfc8d15aec02b8cc7121941021c270b8e341355eddc34cc64ffaa6e9cb"
   }
  }
 },
 "nbformat": 4,
 "nbformat_minor": 5
}
